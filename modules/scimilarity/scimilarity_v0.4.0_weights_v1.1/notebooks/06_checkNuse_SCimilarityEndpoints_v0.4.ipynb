{
 "cells": [
  {
   "cell_type": "markdown",
   "metadata": {
    "application/vnd.databricks.v1+cell": {
     "cellMetadata": {
      "byteLimit": 2048000,
      "rowLimit": 10000
     },
     "inputWidgets": {},
     "nuid": "ff7cc4cc-eae2-49b8-a266-d6dfd40ad63d",
     "showTitle": false,
     "tableResultSettingsMap": {},
     "title": ""
    }
   },
   "source": [
    "# SCimilarity Served Model Endpoints Usage "
   ]
  },
  {
   "cell_type": "markdown",
   "metadata": {
    "application/vnd.databricks.v1+cell": {
     "cellMetadata": {
      "byteLimit": 2048000,
      "rowLimit": 10000
     },
     "inputWidgets": {},
     "nuid": "360591cf-8cd3-4df6-a4f1-3e30b4bbc4d2",
     "showTitle": false,
     "tableResultSettingsMap": {},
     "title": ""
    }
   },
   "source": [
    "## A Guided Example\n",
    "\n",
    "This notebook is a guided walkthrough of how to use the served SCimilarity functions as endpoints to make inferences.\n",
    "\n",
    "It adopts the official [SCimilarity `cell_search` tutorial](https://genentech.github.io/scimilarity/notebooks/cell_search_tutorial_1.html): and where modules are wrapped with [MLflow Custom PyFunc](https://mlflow.org/docs/latest/ml/traditional-ml/tutorials/creating-custom-pyfunc/part2-pyfunc-components/index.html) and [served as endpoints](https://docs.databricks.com/aws/en/machine-learning/model-serving/create-manage-serving-endpoints), these [custom model endpoints](https://docs.databricks.com/aws/en/machine-learning/model-serving/score-custom-model-endpoints) will be leveraged instead. \n",
    "\n",
    "\n",
    "<!-- Requires MLDBR_14.3LTSgpu? -->"
   ]
  },
  {
   "cell_type": "markdown",
   "metadata": {
    "application/vnd.databricks.v1+cell": {
     "cellMetadata": {
      "byteLimit": 2048000,
      "rowLimit": 10000
     },
     "inputWidgets": {},
     "nuid": "43d2d022-e213-45c6-a17f-dba1a1ec7c73",
     "showTitle": true,
     "tableResultSettingsMap": {},
     "title": "start_stop_check_endpoints"
    }
   },
   "source": [
    "#### `start_stop_check_endpoints`\n",
    "Before you begin, please manually kick off a run of the notebook: `./start_stop_check_endpoints_v1`.  \n",
    "_This will help to wake up the relevant SCimilarity endpoints so that they will not need to be scaled from zero and we experience time-out when attempting to make inference calls to the endpoints._"
   ]
  },
  {
   "cell_type": "markdown",
   "metadata": {
    "application/vnd.databricks.v1+cell": {
     "cellMetadata": {
      "byteLimit": 2048000,
      "rowLimit": 10000
     },
     "inputWidgets": {},
     "nuid": "ff229fad-a83e-4f9c-aed2-9d6ec1ba9390",
     "showTitle": false,
     "tableResultSettingsMap": {},
     "title": ""
    }
   },
   "source": [
    "### Notebook Setup + requirements installation"
   ]
  },
  {
   "cell_type": "code",
   "execution_count": 0,
   "metadata": {
    "application/vnd.databricks.v1+cell": {
     "cellMetadata": {
      "byteLimit": 2048000,
      "rowLimit": 10000
     },
     "inputWidgets": {},
     "nuid": "2ff60fb3-d31c-4da6-82d3-f380cebda0d2",
     "showTitle": true,
     "tableResultSettingsMap": {},
     "title": "Define necessary imports and install required packages"
    },
    "jupyter": {
     "outputs_hidden": true
    }
   },
   "outputs": [],
   "source": [
    "requirements = [\n",
    "    \"scimilarity==0.4.0\",\n",
    "    \"typing_extensions>=4.14.0\",\n",
    "    \"scanpy==1.11.2\", #\n",
    "    \"numcodecs==0.13.1\", #\n",
    "    \"numpy==1.26.4\",\n",
    "    \"pandas==1.5.3\",\n",
    "    \"mlflow==2.22.0\",\n",
    "    \"cloudpickle==2.0.0\", #\n",
    "    \"tbb>=2021.6.0\",    \n",
    "    # \"uv\"\n",
    "]\n",
    "\n",
    "for package in requirements:\n",
    "    %pip install {package} --upgrade -q #-v\n",
    "\n",
    "dbutils.library.restartPython()"
   ]
  },
  {
   "cell_type": "code",
   "execution_count": 0,
   "metadata": {
    "application/vnd.databricks.v1+cell": {
     "cellMetadata": {
      "byteLimit": 2048000,
      "rowLimit": 10000
     },
     "inputWidgets": {},
     "nuid": "8f6c5ca9-8a59-4eec-aec0-a4acbae03cda",
     "showTitle": true,
     "tableResultSettingsMap": {},
     "title": "threading config"
    }
   },
   "outputs": [],
   "source": [
    "# Import numba after installing the required packages\n",
    "import numba\n",
    "\n",
    "# Set this at the beginning of your notebook/script\n",
    "numba.config.THREADING_LAYER = 'workqueue'  # Most compatible option\n",
    "# Other options: 'omp' (OpenMP) or 'tbb' (default)"
   ]
  },
  {
   "cell_type": "code",
   "execution_count": 0,
   "metadata": {
    "application/vnd.databricks.v1+cell": {
     "cellMetadata": {
      "byteLimit": 2048000,
      "rowLimit": 10000
     },
     "inputWidgets": {},
     "nuid": "886f40ef-0d29-4209-9dac-d9120334e682",
     "showTitle": true,
     "tableResultSettingsMap": {},
     "title": "widget variables"
    }
   },
   "outputs": [],
   "source": [
    "## for nb devs -- these get overwritten wrt deployment args\n",
    "dbutils.widgets.text(\"catalog\", \"genesis_workbench\", \"Catalog\")\n",
    "dbutils.widgets.text(\"schema\", \"dev_mmt_core_test\", \"Schema\") \n",
    "\n",
    "dbutils.widgets.text(\"model_name\", \"SCimilarity\", \"Model Name\") ## use this as a prefix for the model name \n",
    "\n",
    "dbutils.widgets.text(\"cache_dir\", \"scimilarity\", \"Cache dir\") ## VOLUME NAME | MODEL_FAMILY \n",
    "\n",
    "CATALOG = dbutils.widgets.get(\"catalog\")\n",
    "SCHEMA = dbutils.widgets.get(\"schema\")\n",
    "\n",
    "MODEL_NAME = dbutils.widgets.get(\"model_name\")\n",
    "\n",
    "CACHE_DIR = dbutils.widgets.get(\"cache_dir\")\n",
    "\n",
    "print(f\"Cache dir: {CACHE_DIR}\")\n",
    "cache_full_path = f\"/Volumes/{CATALOG}/{SCHEMA}/{CACHE_DIR}\"\n",
    "print(f\"Cache full path: {cache_full_path}\")"
   ]
  },
  {
   "cell_type": "code",
   "execution_count": 0,
   "metadata": {
    "application/vnd.databricks.v1+cell": {
     "cellMetadata": {
      "byteLimit": 2048000,
      "rowLimit": 10000
     },
     "inputWidgets": {},
     "nuid": "d60d5f53-9831-43ba-aff2-9a25eedade25",
     "showTitle": true,
     "tableResultSettingsMap": {},
     "title": "UC paths"
    }
   },
   "outputs": [],
   "source": [
    "CATALOG = CATALOG \n",
    "DB_SCHEMA = SCHEMA \n",
    "\n",
    "# VOLUME_NAME | PROJECT \n",
    "MODEL_FAMILY = CACHE_DIR ## CACHE_DIR #\"scimilarity\"\n",
    "\n",
    "# MODEL_NAME #\"SCimilarity\" \n",
    "\n",
    "print(\"CATALOG :\", CATALOG)\n",
    "print(\"DB_SCHEMA :\", DB_SCHEMA)\n",
    "print(\"MODEL_FAMILY :\", MODEL_FAMILY)"
   ]
  },
  {
   "cell_type": "code",
   "execution_count": 0,
   "metadata": {
    "application/vnd.databricks.v1+cell": {
     "cellMetadata": {
      "byteLimit": 2048000,
      "rowLimit": 10000
     },
     "inputWidgets": {},
     "nuid": "effbe09c-7eac-4f54-abf9-ea342f6f928e",
     "showTitle": true,
     "tableResultSettingsMap": {},
     "title": "import dependencies"
    }
   },
   "outputs": [],
   "source": [
    "### specific to scimilarity tutorial example\n",
    "# from scimilarity import CellQuery, CellEmbedding ## these are the functions we wrapped in MLflow PyFunc\n",
    "from scimilarity import align_dataset, lognorm_counts\n",
    "import scanpy as sc\n",
    "\n",
    "### viz-related\n",
    "from matplotlib import pyplot as plt\n",
    "sc.set_figure_params(dpi=100)\n",
    "plt.rcParams[\"figure.figsize\"] = [6, 4]\n",
    "\n",
    "import warnings\n",
    "warnings.filterwarnings(\"ignore\")\n",
    "\n",
    "from scipy import sparse\n",
    "import numpy as np\n",
    "import pandas as pd\n",
    "import json\n",
    "import requests\n",
    "\n",
    "import os\n",
    "\n",
    "from collections.abc import MutableMapping  # "
   ]
  },
  {
   "cell_type": "markdown",
   "metadata": {
    "application/vnd.databricks.v1+cell": {
     "cellMetadata": {
      "byteLimit": 2048000,
      "rowLimit": 10000
     },
     "inputWidgets": {},
     "nuid": "d9ae7fcc-6c2c-4809-8e92-9b67417a7d27",
     "showTitle": false,
     "tableResultSettingsMap": {},
     "title": ""
    }
   },
   "source": [
    "### Specify Configs. & Parameters  \n",
    "\n",
    "We need to specify a few configurations:\n",
    "- [DATABRICKS TOKEN](https://docs.databricks.com/aws/en/dev-tools/auth/pat) \n",
    "\n",
    "The following can be specified via the widget parameters at the top of the notebook:\n",
    "- databricks_instance e.g.      \n",
    "  `https://{<region-instance>.databricks.com/}`, `https://{<region>.azuredatabricks.net}`,`https://{<region>.gcp.databricks.com/}`\n",
    "- SCimilarity endpoints to use:\n",
    "  - gene_order_endpoint\n",
    "  - get_embedding_endpoint\n",
    "  - search_nearest_endpoint"
   ]
  },
  {
   "cell_type": "code",
   "execution_count": 0,
   "metadata": {
    "application/vnd.databricks.v1+cell": {
     "cellMetadata": {
      "byteLimit": 2048000,
      "rowLimit": 10000
     },
     "inputWidgets": {},
     "nuid": "12baf8f7-e1d5-4008-bd90-19a24451132e",
     "showTitle": true,
     "tableResultSettingsMap": {},
     "title": "\"configs\""
    }
   },
   "outputs": [],
   "source": [
    "## to update as widgets input\n",
    "import os \n",
    "DATABRICKS_TOKEN = dbutils.secrets.get(\"mmt\",\"databricks_token\") \n",
    "# DATABRICKS_TOKEN = dbutils.secrets.get(\"<SCOPE>\",\"<SECRET_KEY>\") ## to update with APP SP/PAT token?\n",
    "os.environ[\"DATABRICKS_TOKEN\"] = DATABRICKS_TOKEN\n",
    "\n",
    "# databricks_instance = dbutils.widgets.text(\"databricks_instance_url\", \"<region>.{azure}databricks.net\", \"databricks_instance\")\n",
    "databricks_instance = \"adb-830292400663869.9.azuredatabricks.net\" ## update to your workspace instance\n",
    "\n",
    "## User to specify in Widgets -- to replace with gwb-app ones?... \n",
    "# gene_order_endpoint = dbutils.widgets.text(\"gene_order_endpoint_name\", \"mmt_scimilarity_gene_order\", \"gene_order_endpoint\")\n",
    "# get_embedding_endpoint = dbutils.widgets.text(\"get_embedding_endpoint_name\", \"mmt_scimilarity_get_embedding_v2test\", \"get_embedding_endpoint\")\n",
    "# search_nearest_endpoint = dbutils.widgets.text(\"search_nearest_endpoint_name\", \"mmt_scimilarity_search_nearest\", \"search_nearest_endpoint\")\n",
    "\n",
    "gene_order_endpoint = \"mmt_scimilarity_gene_order\"\n",
    "get_embedding_endpoint = \"mmt_scimilarity_get_embedding_v2test\" \n",
    "search_nearest_endpoint = \"mmt_scimilarity_search_nearest\""
   ]
  },
  {
   "cell_type": "markdown",
   "metadata": {
    "application/vnd.databricks.v1+cell": {
     "cellMetadata": {
      "byteLimit": 2048000,
      "rowLimit": 10000
     },
     "inputWidgets": {},
     "nuid": "11aa93c8-b3be-47ca-85dc-1450c321bb38",
     "showTitle": false,
     "tableResultSettingsMap": {},
     "title": ""
    }
   },
   "source": [
    "### Define Functions to Make API Endpoint Inferencing + SCimilarity function calls from endpoints"
   ]
  },
  {
   "cell_type": "code",
   "execution_count": 0,
   "metadata": {
    "application/vnd.databricks.v1+cell": {
     "cellMetadata": {
      "byteLimit": 2048000,
      "rowLimit": 10000
     },
     "inputWidgets": {},
     "nuid": "877e86c9-12d4-4849-9308-a3c29da8a955",
     "showTitle": true,
     "tableResultSettingsMap": {},
     "title": "Define Endpoint API Inferencing Functions"
    }
   },
   "outputs": [],
   "source": [
    "# Function to create Serving JSON format\n",
    "def create_serving_json(data, params=None):\n",
    "    return {\"instances\": data} if params is None else {\"instances\": data, \"params\": params}\n",
    "\n",
    "\n",
    "def api_inference(databricks_instance, endpoint_name, data_input, params=None):\n",
    "    url = f'https://{databricks_instance}/serving-endpoints/{endpoint_name}/invocations'\n",
    "    headers = {\n",
    "        'Authorization': f'Bearer {os.environ.get(\"DATABRICKS_TOKEN\")}',\n",
    "        'Content-Type': 'application/json'\n",
    "    }\n",
    "    \n",
    "    if isinstance(data_input, pd.DataFrame):\n",
    "        ds_dict = {'dataframe_split': data_input.to_dict(orient='split')}\n",
    "        if params:\n",
    "            ds_dict['params'] = params\n",
    "    else:\n",
    "        ds_dict = create_serving_json(data_input, params)\n",
    "    \n",
    "    data_json = json.dumps(ds_dict, allow_nan=True)\n",
    "    response = requests.post(url, headers=headers, data=data_json)\n",
    "    \n",
    "    if response.status_code == 200:\n",
    "        try:\n",
    "            return response.json()\n",
    "        except json.JSONDecodeError:\n",
    "            return {\"error\": \"Invalid JSON response\", \"response_text\": response.text}\n",
    "    else:\n",
    "        return {\"error\": f\"HTTP {response.status_code}\", \"response_text\": response.text}"
   ]
  },
  {
   "cell_type": "code",
   "execution_count": 0,
   "metadata": {
    "application/vnd.databricks.v1+cell": {
     "cellMetadata": {
      "byteLimit": 2048000,
      "rowLimit": 10000
     },
     "inputWidgets": {},
     "nuid": "32c14453-c0f6-49b6-a066-463c458932fe",
     "showTitle": true,
     "tableResultSettingsMap": {},
     "title": "Define Scimilarity Inference Calling Functions"
    }
   },
   "outputs": [],
   "source": [
    "def derive_gene_order(databricks_instance, endpoint_name) -> list[str]:  \n",
    "    example_input = pd.DataFrame({\"input\": [\"get_gene_order\"]})\n",
    "    get_gene_order = api_inference(databricks_instance, endpoint_name, data_input=example_input)\n",
    "    return get_gene_order['predictions']\n",
    "\n",
    "## gene_order = derive_gene_order(endpoint_name=\"mmt_scimilarity_gene_order\")\n",
    "\n",
    "\n",
    "## updated version \n",
    "def derive_embedding(databricks_instance, endpoint_name, data_input) -> pd.DataFrame():  \n",
    "    ## data_input: X_vals\n",
    "\n",
    "    celltype_sample_obs_json = data_input.obs.to_json(orient='split')\n",
    "    X_vals_dense = data_input.X.toarray().tolist()\n",
    "    celltype_subsample_pdf = pd.DataFrame([{'celltype_subsample': row} for row in X_vals_dense ], \n",
    "                                        index=data_input.obs.index\n",
    "                                        )\n",
    "\n",
    "    example_input = pd.DataFrame([{\n",
    "                                    \"celltype_sample\": celltype_subsample_pdf.to_json(orient='split'), \n",
    "                                    \"celltype_sample_obs\": data_input.obs.to_json(orient='split')\n",
    "                                }])\n",
    "    \n",
    "    get_embeddings = api_inference(databricks_instance, endpoint_name, data_input=example_input)\n",
    "    return get_embeddings #['predictions'][0]['embedding']#[0]\n",
    "\n",
    "## cell_embedding = derive_embedding(endpoint_name = \"mmt_scimilarity_get_embedding\", data_input = X_vals)\n",
    "\n",
    "\n",
    "def search_nearest(databricks_instance, endpoint_name, embedding, params = {'k': 10}) -> dict:\n",
    "    example_input = pd.DataFrame({\"embedding\": embedding})\n",
    "    return api_inference(databricks_instance, endpoint_name, data_input=example_input, params = params)\n",
    "\n",
    "## knn = search_nearest(databricks_instance, endpoint_name, embedding, params = {'k': 10})"
   ]
  },
  {
   "cell_type": "markdown",
   "metadata": {
    "application/vnd.databricks.v1+cell": {
     "cellMetadata": {
      "byteLimit": 2048000,
      "rowLimit": 10000
     },
     "inputWidgets": {},
     "nuid": "a1a3e3fe-57fd-43b9-900e-928bea3c9a9c",
     "showTitle": false,
     "tableResultSettingsMap": {},
     "title": ""
    }
   },
   "source": [
    "### DATA Overview\n",
    "\n",
    "To simplify this walkthrough example of using the SCimilarity functions served as endpoints, we [pre-computed embeddings on aligned and log-normed dataset of adams et al.](https://genentech.github.io/scimilarity/notebooks/cell_search_tutorial_1.html#2.-Compute-embeddings) that the SCimilarity model was not trained on (`previously unseen`) and saved it as a `.h5ad` file to read in here.    \n",
    "\n",
    "_The observations are that the model is able to yield author annotations roughly clustered in SCimilarity embedding space_ \n",
    "\n",
    "<!-- - ~/REPO/genesis-workbench/modules/scimilarity/scimilarity_v0.4.0_weights_v1.1/notebooks/0x_BatchInference_GetEmbedding  -->\n"
   ]
  },
  {
   "cell_type": "code",
   "execution_count": 0,
   "metadata": {
    "application/vnd.databricks.v1+cell": {
     "cellMetadata": {
      "byteLimit": 2048000,
      "rowLimit": 10000
     },
     "inputWidgets": {},
     "nuid": "7e6e9c9c-fcdc-4f67-9867-e18555ae584c",
     "showTitle": true,
     "tableResultSettingsMap": {},
     "title": "read directly adams0_alignedNlognormed_Xscim_umap"
    }
   },
   "outputs": [],
   "source": [
    "# To save a bit of wait time, and for tutorial viz: we use `cell_query.get_embeddings` to pre-process `adams0`, which is cell-order aligned, log-normed, and scimilarity embeddings applied to the adams et al dataset sample for displaying with umap.   \n",
    "\n",
    "adams0 = sc.read_h5ad(f\"/Volumes/{CATALOG}/{DB_SCHEMA}/{MODEL_FAMILY}/data/adams_etal_2020/adams0_alignedNlognormed_Xscim_umap.h5ad\")\n",
    "\n",
    "# umap aligned+lognormed data\n",
    "sc.pl.umap(adams0, color=\"celltype_raw\", legend_fontsize=10)"
   ]
  },
  {
   "cell_type": "markdown",
   "metadata": {
    "application/vnd.databricks.v1+cell": {
     "cellMetadata": {
      "byteLimit": 2048000,
      "rowLimit": 10000
     },
     "inputWidgets": {},
     "nuid": "b9fd7449-fcc9-42d5-b8ec-ddf1be0ebdd4",
     "showTitle": false,
     "tableResultSettingsMap": {},
     "title": ""
    }
   },
   "source": [
    "### DATA Preprocessing \n",
    "\n",
    "The [dataset](https://genentech.github.io/scimilarity/notebooks/cell_search_tutorial_1.html#0.-Required-software-and-data) (with embedding clustering visualized above) has cells sourced from _Idiopathic Pulmonary Fibrosis_ (IPF) patients, _Chronic Obstructive Pulmonary Disease_ (COPD) patients, and healthy individuals. \n",
    "\n",
    "The data processing steps follow the original SCimilarity `cell_search` tutorial as described in [Import-and-normalize-data](https://genentech.github.io/scimilarity/notebooks/cell_search_tutorial_1.html#1.-Prepare-for-SCimilarity:-Import-and-normalize-data).\n"
   ]
  },
  {
   "cell_type": "code",
   "execution_count": 0,
   "metadata": {
    "application/vnd.databricks.v1+cell": {
     "cellMetadata": {
      "byteLimit": 2048000,
      "rowLimit": 10000
     },
     "inputWidgets": {},
     "nuid": "1295e181-7769-4e57-8879-53b457fd6fd6",
     "showTitle": true,
     "tableResultSettingsMap": {},
     "title": "read adams"
    }
   },
   "outputs": [],
   "source": [
    "# sampledata_path = f\"/Volumes/{CATALOG}/{DB_SCHEMA}/{MODEL_FAMILY}/data/adams_etal_2020/GSE136831_subsample.h5ad\"\n",
    "sampledata_path = f\"/Volumes/{CATALOG}/{DB_SCHEMA}/{MODEL_FAMILY}/data/adams_etal_2020/adams.h5ad\" #gziped compressed\n",
    "\n",
    "## READ sample czi dataset H5AD file --> align + lognorm \n",
    "adams = sc.read(sampledata_path)"
   ]
  },
  {
   "cell_type": "markdown",
   "metadata": {
    "application/vnd.databricks.v1+cell": {
     "cellMetadata": {},
     "inputWidgets": {},
     "nuid": "5cd9e304-0b8f-49c1-8cbe-26438c79b082",
     "showTitle": false,
     "tableResultSettingsMap": {},
     "title": ""
    }
   },
   "source": [
    "To align the `adams` data, we will use the **`gene_order`** serving endpoint"
   ]
  },
  {
   "cell_type": "code",
   "execution_count": 0,
   "metadata": {
    "application/vnd.databricks.v1+cell": {
     "cellMetadata": {
      "byteLimit": 2048000,
      "rowLimit": 10000
     },
     "inputWidgets": {},
     "nuid": "c4baf531-07b5-48e3-9d67-886f9c757c61",
     "showTitle": true,
     "tableResultSettingsMap": {},
     "title": "align + log-norm cell data"
    }
   },
   "outputs": [],
   "source": [
    "## here we will use the gene_order endpoint\n",
    "\n",
    "gene_order = derive_gene_order(databricks_instance, endpoint_name = gene_order_endpoint) \n",
    "aligned = align_dataset(adams, gene_order) #\n",
    "\n",
    "lognorm = lognorm_counts(aligned)"
   ]
  },
  {
   "cell_type": "markdown",
   "metadata": {
    "application/vnd.databricks.v1+cell": {
     "cellMetadata": {
      "byteLimit": 2048000,
      "rowLimit": 10000
     },
     "inputWidgets": {},
     "nuid": "d873874a-f484-4a02-bca5-86901550a917",
     "showTitle": false,
     "tableResultSettingsMap": {},
     "title": ""
    }
   },
   "source": [
    "\n",
    "Per [SCimilarity tutorial](https://genentech.github.io/scimilarity/notebooks/cell_search_tutorial_1.html#), **our interest is in studying the myofibroblasts in IPF patients** and we would like to understand **what other disease exhibit similar myofibroblasts**. \n",
    "\n",
    "To ensure we pick a cell that we are confident is a myofibroblast cell type, we will first filter for IPF samples and check the expression of some canonical fibroblast and myofibroblast markers across different samples. "
   ]
  },
  {
   "cell_type": "code",
   "execution_count": 0,
   "metadata": {
    "application/vnd.databricks.v1+cell": {
     "cellMetadata": {
      "byteLimit": 2048000,
      "rowLimit": 10000
     },
     "inputWidgets": {},
     "nuid": "0a637bbe-3a3b-42bd-95fe-b36695f94636",
     "showTitle": true,
     "tableResultSettingsMap": {},
     "title": "process  sampledata"
    }
   },
   "outputs": [],
   "source": [
    "#### Filter samle data to \"Disease\" | celltype: \"myofibroblast cell\" | sample_ref: \"DS000011735-GSM4058950\"  \n",
    "\n",
    "disease_name = \"IPF\"\n",
    "celltype_name = \"myofibroblast cell\" \n",
    "sample_refid = \"DS000011735-GSM4058950\"\n",
    "subsample_refid = \"123942\" #[123942, 124332, 126138]\n",
    "\n",
    "diseasetype_ipf = lognorm[lognorm.obs[\"Disease\"] == disease_name].copy()\n",
    "\n",
    "celltype_myofib = diseasetype_ipf[\n",
    "                                  diseasetype_ipf.obs[\"celltype_name\"] == celltype_name\n",
    "                                 ].copy()\n",
    "\n",
    "## Extract list for sample_ref\n",
    "celltype_sample = celltype_myofib[\n",
    "                                  celltype_myofib.obs[\"sample\"] == sample_refid \n",
    "                                 ].copy()\n",
    "\n",
    "## extract specific index in celltype_sample \n",
    "celltype_subsample = celltype_sample[celltype_sample.obs.index == subsample_refid]\n",
    "\n",
    "query_cell = celltype_sample \n",
    "# query_cell = celltype_subsample\n",
    "\n",
    "## extract subsample query (1d array or list)\n",
    "# X_vals: sparse.csr_matrix = query_cell.X\n",
    "# print(X_vals)\n",
    "\n",
    "# X_vals_dense = X_vals.toarray()\n",
    "# print(X_vals_dense)"
   ]
  },
  {
   "cell_type": "code",
   "execution_count": 0,
   "metadata": {
    "application/vnd.databricks.v1+cell": {
     "cellMetadata": {
      "byteLimit": 2048000,
      "rowLimit": 10000
     },
     "inputWidgets": {},
     "nuid": "c460eba7-7ce7-48f3-b489-8a1c225af83c",
     "showTitle": true,
     "tableResultSettingsMap": {},
     "title": "celltype sample with subsamples in index"
    }
   },
   "outputs": [],
   "source": [
    "query_cell.obs"
   ]
  },
  {
   "cell_type": "markdown",
   "metadata": {
    "application/vnd.databricks.v1+cell": {
     "cellMetadata": {
      "byteLimit": 2048000,
      "rowLimit": 10000
     },
     "inputWidgets": {},
     "nuid": "63f400ab-aa4d-4f88-9e9d-49e0ddde81a1",
     "showTitle": false,
     "tableResultSettingsMap": {},
     "title": ""
    }
   },
   "source": [
    "### Cell Types filterd to Disease:`IPF` and Study Sample Ref.\n",
    " \n",
    "Per [SCimilarity tutorial](https://genentech.github.io/scimilarity/notebooks/cell_search_tutorial_1.html#), we selected `cell 123942` from `IPF sample DS000011735-GSM4058950` for our query.    \n",
    "We also check canonical gene markers to help ensure a high confidence myofibroblast is selected."
   ]
  },
  {
   "cell_type": "code",
   "execution_count": 0,
   "metadata": {
    "application/vnd.databricks.v1+cell": {
     "cellMetadata": {
      "byteLimit": 2048000,
      "rowLimit": 10000
     },
     "inputWidgets": {},
     "nuid": "029ec7a7-6bb4-4e4d-a7c7-6feb9225ef1d",
     "showTitle": true,
     "tableResultSettingsMap": {},
     "title": "marker_list for cells of interest"
    }
   },
   "outputs": [],
   "source": [
    "marker_list = {\n",
    "    \"Fibroblast\": [\"COL1A1\", \"COL3A1\", \"DCN\", \"FBLN1\", \"FN1\", \"LUM\", \"THY1\"],\n",
    "    \"Myofibroblast\": [\"CDH11\", \"COMP\", \"CTHRC1\", \"ELN\", \"POSTN\", \"TNC\"],\n",
    "    \"Smooth Muscle\": [\"ACTA2\", \"ACTG2\", \"DES\", \"MYH11\", \"MYL9\", \"TAGLN\"],\n",
    "}"
   ]
  },
  {
   "cell_type": "code",
   "execution_count": 0,
   "metadata": {
    "application/vnd.databricks.v1+cell": {
     "cellMetadata": {
      "byteLimit": 2048000,
      "rowLimit": 10000
     },
     "inputWidgets": {},
     "nuid": "32acc9a5-4846-4203-8960-b7bf648c7040",
     "showTitle": true,
     "tableResultSettingsMap": {},
     "title": "Viz celltype_sub/sample"
    },
    "jupyter": {
     "source_hidden": true
    }
   },
   "outputs": [],
   "source": [
    "celltype_sample.obs[\"cell_id\"] = celltype_sample.obs.index\n",
    "# celltype_subsample.obs[\"cell_id\"] = celltype_subsample.obs.index\n",
    "\n",
    "dot = sc.pl.dotplot(\n",
    "    celltype_sample,\n",
    "    var_names=marker_list,\n",
    "    groupby=\"cell_id\",\n",
    "    var_group_rotation=0,\n",
    "    title=\"CellType & Gene Markers\",\n",
    "    show=False,          # keep the figure hidden for now\n",
    ")\n",
    "\n",
    "dot['mainplot_ax'].set_xlabel(\"Associated Genes\")   # Access the main Axes from the dictionary\n",
    "dot['mainplot_ax'].set_ylabel(\"Cell RefID\")\n",
    "# dot['mainplot_ax'].figure.tight_layout()            # Access the underlying Figure using dot['mainplot_ax'].figure\n",
    "plt.show()"
   ]
  },
  {
   "cell_type": "markdown",
   "metadata": {
    "application/vnd.databricks.v1+cell": {
     "cellMetadata": {
      "byteLimit": 2048000,
      "rowLimit": 10000
     },
     "inputWidgets": {},
     "nuid": "4032d264-8610-44f7-b2ca-4bff2d353c26",
     "showTitle": false,
     "tableResultSettingsMap": {},
     "title": ""
    }
   },
   "source": [
    "Relative to the dataset embedded space -- we can visualize \"where\" this cell subsample is 'located'.  "
   ]
  },
  {
   "cell_type": "code",
   "execution_count": 0,
   "metadata": {
    "application/vnd.databricks.v1+cell": {
     "cellMetadata": {
      "byteLimit": 2048000,
      "rowLimit": 10000
     },
     "inputWidgets": {},
     "nuid": "8b58a60c-d864-4e3e-a02e-0afbb342cee0",
     "showTitle": true,
     "tableResultSettingsMap": {},
     "title": "visualize subsample used in query"
    },
    "jupyter": {
     "source_hidden": true
    }
   },
   "outputs": [],
   "source": [
    "used_in_query = adams0.obs.index == \"123942\"\n",
    "adams.obs[\"used_in_query\"] = used_in_query.astype(int)\n",
    "\n",
    "# Define the colormap once\n",
    "from matplotlib.colors import LinearSegmentedColormap\n",
    "grey_to_red = LinearSegmentedColormap.from_list(\n",
    "    \"grey_to_red\",\n",
    "    [\"lightgrey\", \"red\"]\n",
    ")\n",
    "\n",
    "# Plot UMAP with a larger marker size and a distinct marker type for the query\n",
    "f = sc.pl.umap(\n",
    "    adams0, ## using the the pre-computed dataset embeddings with scimilarity\n",
    "    color=[\"used_in_query\"], \n",
    "    cmap=grey_to_red, #\"YlOrRd\", \n",
    "    # size=100,  # Increase the marker size\n",
    "    return_fig=True\n",
    ")\n",
    "\n",
    "# Add an arrow to highlight the specific point\n",
    "f.axes[0].arrow(5.5, 8.75, 1, -1, head_width=0.5, head_length=0.5, color='black')  \n",
    "# f.axes[0].arrow(6.1, 10.5, 1, -1, head_width=0.5, head_length=0.5); # original\n",
    "\n",
    "# Change the marker type for the used_in_query points\n",
    "used_in_query_points = adams0[adams0.obs[\"used_in_query\"] == 1].obsm[\"X_umap\"]\n",
    "f.axes[0].scatter(used_in_query_points[:, 0], used_in_query_points[:, 1], color='red', marker='X', s=12)\n",
    "\n",
    "plt.show()"
   ]
  },
  {
   "cell_type": "markdown",
   "metadata": {
    "application/vnd.databricks.v1+cell": {
     "cellMetadata": {
      "byteLimit": 2048000,
      "rowLimit": 10000
     },
     "inputWidgets": {},
     "nuid": "53871d6d-0f6a-4cc6-9c5b-f1f42541b489",
     "showTitle": false,
     "tableResultSettingsMap": {},
     "title": ""
    }
   },
   "source": [
    "\n",
    "### Searches for `k` most simliar cells \n",
    "\n",
    "We take a similar approach to SCimilarity tutorial and [perform searches for N most simliar cells across 22.7M cell reference and extract metadata for each cell](https://genentech.github.io/scimilarity/notebooks/cell_search_tutorial_1.html#3.-Perform-cell-search).\n",
    "\n",
    "<!-- For sub-second searches, with less frills, use `cq.get_nearest_neighbors`.\n",
    "\n",
    "[Note, many of the search results will be from the Adams et al. dataset, since the most similar cells will come from the same sample or study.] -->\n",
    "\n",
    "Specifically for this example notebook, we will illustrate using our **`search_nearest`** serving endpoint, which has been MLflow custom pyfunc wrapped using `cq.search_nearest()` where [`CellQuery` is from `SCimilarity`](https://genentech.github.io/scimilarity/modules/cell_query.html#module-scimilarity.cell_query) and `cq = CellQuery(model_path=\"/opt/data/model\")` \n",
    "\n",
    "- Input for `search_nearest()`\n",
    "\n",
    "    - Model embedding which we can calculate using our **`get_embedding`** endpoint which was similarly MLflow custom pyfunc wrapped using `ce.get_embeddings()` where [`CellEmbedding` is from `SCimilarity`](https://genentech.github.io/scimilarity/modules/cell_embedding.html) and `ce = CellEmbedding(model_path=\"/opt/data/model\")` \n",
    "    - **`k`** represents the number of nearest neighbours we would like to search.\n",
    "\n",
    "- Output of `search_nearest()`\n",
    "\n",
    "    - **`nn_idxs`**: `neighbour cells' indices` in the `SCimilarity` reference.\n",
    "    - **`nn_dists`**: the `distance` between neighbour cells and the query.\n",
    "    - **`metadata`**: a dataframe containing the `metadata` associated with each cell."
   ]
  },
  {
   "cell_type": "markdown",
   "metadata": {
    "application/vnd.databricks.v1+cell": {
     "cellMetadata": {
      "byteLimit": 2048000,
      "rowLimit": 10000
     },
     "inputWidgets": {},
     "nuid": "4305a9d4-d25b-41bf-9edb-c9ff68880654",
     "showTitle": false,
     "tableResultSettingsMap": {},
     "title": ""
    }
   },
   "source": [
    "#### **`get_embedding`**\n",
    "\n",
    "Let's first derive our cell type samples' embedding as inputs into the **`serarch_nearest`** endpoint"
   ]
  },
  {
   "cell_type": "code",
   "execution_count": 0,
   "metadata": {
    "application/vnd.databricks.v1+cell": {
     "cellMetadata": {
      "byteLimit": 2048000,
      "rowLimit": 10000
     },
     "inputWidgets": {},
     "nuid": "24b2d957-9c4f-4052-bf84-c9ef7c19deb0",
     "showTitle": true,
     "tableResultSettingsMap": {},
     "title": "derive_embedding"
    }
   },
   "outputs": [],
   "source": [
    "### derives the embedding for the given query cell using the specified endpoint.\n",
    "\n",
    "cell_embedding = derive_embedding(databricks_instance, endpoint_name = get_embedding_endpoint, data_input = query_cell)\n",
    "# cell_embedding\n",
    "\n",
    "cell_embedding_pdf = pd.DataFrame(cell_embedding['predictions'])\n",
    "cell_embedding_pdf #embedding colum is all the way to the right "
   ]
  },
  {
   "cell_type": "markdown",
   "metadata": {
    "application/vnd.databricks.v1+cell": {
     "cellMetadata": {
      "byteLimit": 2048000,
      "rowLimit": 10000
     },
     "inputWidgets": {},
     "nuid": "0b0b1e7f-1b37-4b0e-ac7c-47f6321f2eee",
     "showTitle": false,
     "tableResultSettingsMap": {},
     "title": ""
    }
   },
   "source": [
    "#### **`search_nearest`**\n",
    "\n",
    "Now we can perform or `knn` using our **`serarch_nearest`** endpoint with the derived celltype sample `embedding(s)` and specified `k` parameter."
   ]
  },
  {
   "cell_type": "code",
   "execution_count": 0,
   "metadata": {
    "application/vnd.databricks.v1+cell": {
     "cellMetadata": {
      "byteLimit": 2048000,
      "rowLimit": 10000
     },
     "inputWidgets": {},
     "nuid": "034670cb-22c2-4c78-b93f-ac7dba9a4723",
     "showTitle": true,
     "tableResultSettingsMap": {},
     "title": "search_nearest | cell subsample_refid"
    }
   },
   "outputs": [],
   "source": [
    "### searches for the nearest neighbors using the derived embedding and specified endpoint.\n",
    "\n",
    "knn = search_nearest(\n",
    "                     databricks_instance,                    \n",
    "                     endpoint_name = search_nearest_endpoint,\n",
    "                     embedding=cell_embedding_pdf[cell_embedding_pdf.celltype_sample_index == '123942'].embedding.values[0],                             \n",
    "                     params={'k': 1000}\n",
    "                   )"
   ]
  },
  {
   "cell_type": "markdown",
   "metadata": {
    "application/vnd.databricks.v1+cell": {
     "cellMetadata": {
      "byteLimit": 2048000,
      "rowLimit": 10000
     },
     "inputWidgets": {},
     "nuid": "f1185451-1a29-4173-9725-4284c244f9ad",
     "showTitle": false,
     "tableResultSettingsMap": {},
     "title": ""
    }
   },
   "source": [
    "We can also check that `knn` `predictions` yield the expected output for '`nn_idxs`', '`nn_dists`', and '`metadata`' and inspect the associated `metadata` dataframe values for a random sample of indices. "
   ]
  },
  {
   "cell_type": "code",
   "execution_count": 0,
   "metadata": {
    "application/vnd.databricks.v1+cell": {
     "cellMetadata": {
      "byteLimit": 2048000,
      "rowLimit": 10000
     },
     "inputWidgets": {},
     "nuid": "a2c4753a-28e4-4df2-92df-311e884729b9",
     "showTitle": true,
     "tableResultSettingsMap": {},
     "title": "knn[\"predictions\"]"
    }
   },
   "outputs": [],
   "source": [
    "knn[\"predictions\"][0].keys()"
   ]
  },
  {
   "cell_type": "code",
   "execution_count": 0,
   "metadata": {
    "application/vnd.databricks.v1+cell": {
     "cellMetadata": {
      "byteLimit": 2048000,
      "rowLimit": 10000
     },
     "inputWidgets": {},
     "nuid": "b4406fce-c170-4282-aa95-95d5864fbc1b",
     "showTitle": true,
     "tableResultSettingsMap": {},
     "title": "prediction results_metadata"
    }
   },
   "outputs": [],
   "source": [
    "### inspect prediction results from KNN search + samples 10 random rows from the results metadata of the KNN predictions.\n",
    "\n",
    "pd.DataFrame(knn[\"predictions\"][0]['results_metadata']).sample(10, random_state=963)"
   ]
  },
  {
   "cell_type": "markdown",
   "metadata": {
    "application/vnd.databricks.v1+cell": {
     "cellMetadata": {
      "byteLimit": 2048000,
      "rowLimit": 10000
     },
     "inputWidgets": {},
     "nuid": "84a51c43-8ecf-43b7-b34c-b3e27cfbeaaa",
     "showTitle": false,
     "tableResultSettingsMap": {},
     "title": ""
    }
   },
   "source": [
    "### Making sense of search results\n",
    "\n",
    "With the the most similar cells returned from our query, we can investigate the studies and conditions in which these cells are present. \n",
    "\n",
    "We have 2 helper functions to facilitate the derivation and visualization of disease proportions. "
   ]
  },
  {
   "cell_type": "code",
   "execution_count": 0,
   "metadata": {
    "application/vnd.databricks.v1+cell": {
     "cellMetadata": {
      "byteLimit": 2048000,
      "rowLimit": 10000
     },
     "inputWidgets": {},
     "nuid": "7586d39a-ca34-4fab-b4a4-739db2ae470b",
     "showTitle": true,
     "tableResultSettingsMap": {},
     "title": "helper functions for disease proportions calculations"
    }
   },
   "outputs": [],
   "source": [
    "def calculate_disease_proportions(metadata):\n",
    "    study_proportions = metadata.disease.value_counts()\n",
    "    return 100 * study_proportions / study_proportions.sum()\n",
    "\n",
    "\n",
    "def plot_proportions(df, title=None):\n",
    "    ax = df.plot(\n",
    "                 kind=\"barh\", xlabel=\"percent of cells\", title=title, grid=False, figsize=(8, 5), color=['#1f77b4', '#ff7f0e', '#2ca02c', '#d62728', '#9467bd']  # Add a list of colors\n",
    "                 # kind=\"bar\", ylabel=\"Percent of cells\", title=title, grid=False, figsize=(8, 6)\n",
    "                )\n",
    "    ax.tick_params(axis=\"y\", labelsize=8)\n",
    "    ax.invert_yaxis()  # Invert the y-axis\n",
    "    ax.set_xticklabels([f\"{int(tick)}%\" for tick in ax.get_xticks()])\n",
    "    \n",
    "    # ax.tick_params(axis=\"x\", labelsize=8)\n",
    "    # plt.xticks(rotation=60, ha='right')  # Rotate x-tick labels by X degrees\n",
    "    # ax.set_yticklabels([f\"{int(tick)}%\" for tick in ax.get_yticks()])\n",
    "\n",
    "    plt.tight_layout()"
   ]
  },
  {
   "cell_type": "markdown",
   "metadata": {
    "application/vnd.databricks.v1+cell": {
     "cellMetadata": {
      "byteLimit": 2048000,
      "rowLimit": 10000
     },
     "inputWidgets": {},
     "nuid": "0bb1de16-5f68-41e1-890b-eae2ef263915",
     "showTitle": false,
     "tableResultSettingsMap": {},
     "title": ""
    }
   },
   "source": [
    "### Omit self-referencing results\n",
    "To get a clearer view of the results, self-referencing hits are often excluded.    \n",
    "Let's filter out results for cells from the same study before deriving the disease proportions where the cells are present."
   ]
  },
  {
   "cell_type": "code",
   "execution_count": 0,
   "metadata": {
    "application/vnd.databricks.v1+cell": {
     "cellMetadata": {
      "byteLimit": 2048000,
      "rowLimit": 10000
     },
     "inputWidgets": {},
     "nuid": "ae609758-dee3-4498-8989-9fe1e8b84e5c",
     "showTitle": false,
     "tableResultSettingsMap": {},
     "title": ""
    }
   },
   "outputs": [],
   "source": [
    "query_study = \"DS000011735\"\n",
    "\n",
    "filtered_df = pd.DataFrame(knn[\"predictions\"][0]['results_metadata']).loc[\n",
    "    pd.DataFrame(knn[\"predictions\"][0]['results_metadata'])[\"study\"] != query_study\n",
    "]\n",
    "display(filtered_df.head())"
   ]
  },
  {
   "cell_type": "code",
   "execution_count": 0,
   "metadata": {
    "application/vnd.databricks.v1+cell": {
     "cellMetadata": {
      "byteLimit": 2048000,
      "rowLimit": 10000
     },
     "inputWidgets": {},
     "nuid": "12f56aa8-b8bc-432a-ae50-1f8fb9f59cff",
     "showTitle": false,
     "tableResultSettingsMap": {},
     "title": ""
    }
   },
   "outputs": [],
   "source": [
    "query_study = \"DS000011735\"\n",
    "\n",
    "filtered_result_metadata = pd.DataFrame(knn[\"predictions\"][0]['results_metadata']).loc[\n",
    "    pd.DataFrame(knn[\"predictions\"][0]['results_metadata'])[\"study\"] != query_study\n",
    "]\n",
    "query_disease_frequencies = calculate_disease_proportions(filtered_result_metadata)\n",
    "query_disease_frequencies = query_disease_frequencies[query_disease_frequencies > 0.1]\n",
    "plot_proportions(\n",
    "    query_disease_frequencies, title=\"Disease Proportions for Most Similar Cells\"\n",
    ")"
   ]
  },
  {
   "cell_type": "code",
   "execution_count": 0,
   "metadata": {
    "application/vnd.databricks.v1+cell": {
     "cellMetadata": {
      "byteLimit": 2048000,
      "rowLimit": 10000
     },
     "inputWidgets": {},
     "nuid": "947b890a-cf46-4cf6-8264-a98a984a5f81",
     "showTitle": false,
     "tableResultSettingsMap": {},
     "title": ""
    }
   },
   "outputs": [],
   "source": [
    "query_disease_frequencies"
   ]
  },
  {
   "cell_type": "markdown",
   "metadata": {
    "application/vnd.databricks.v1+cell": {
     "cellMetadata": {
      "byteLimit": 2048000,
      "rowLimit": 10000
     },
     "inputWidgets": {},
     "nuid": "62450196-e4e8-4c8a-b632-2434385d03de",
     "showTitle": false,
     "tableResultSettingsMap": {},
     "title": ""
    }
   },
   "source": [
    "This sample query manifests higher proportion of cells in multiple diseases including COVID-19, ulcerative colitis, ILDs, and cancers compared to healthy samples. However _**results can be skewed by the imbalanced abundances of diseases and tissues in the query reference**._ \n",
    "\n",
    "We can look at how enriched these cells are by counting the **number of predicted myofibroblasts** ([already precompted in `cq.cell_metadata` and extracted from `CellQuery` module in SCimilarity](https://genentech.github.io/scimilarity/notebooks/cell_search_tutorial_1.html#Get-reference-cell-metadata) and saved as a delta table for easier read for this notebook) **across diseases for both our query hits and the full reference**."
   ]
  },
  {
   "cell_type": "code",
   "execution_count": 0,
   "metadata": {
    "application/vnd.databricks.v1+cell": {
     "cellMetadata": {
      "byteLimit": 2048000,
      "rowLimit": 10000
     },
     "inputWidgets": {},
     "nuid": "58312227-8019-4026-bb8f-57872a7ac479",
     "showTitle": true,
     "tableResultSettingsMap": {},
     "title": "read in pre-extracted cell ref_metadata"
    }
   },
   "outputs": [],
   "source": [
    "## readin scimilarity_cq_ref_metadata \n",
    "uc_path = f\"{CATALOG}.{DB_SCHEMA}.scimilarity_cq_ref_metadata\"\n",
    "ref_metadata = spark.read.table(uc_path).toPandas()\n",
    "\n",
    "# ref_metadata.info() #~23million rows"
   ]
  },
  {
   "cell_type": "markdown",
   "metadata": {
    "application/vnd.databricks.v1+cell": {
     "cellMetadata": {
      "byteLimit": 2048000,
      "rowLimit": 10000
     },
     "inputWidgets": {},
     "nuid": "17dba56d-5b86-44e0-8af1-e1453fdc42e7",
     "showTitle": false,
     "tableResultSettingsMap": {},
     "title": ""
    }
   },
   "source": [
    "### Background comparison of `myofibroblasts` across diseases\n",
    "\n",
    "_`Per SCimilarity search_nearest tutorial`_\n",
    ">   To assess how enriched our results are for a disease of interest, we can visualize this imbalance:\n",
    "> \n",
    ">   - Subset the full reference metadata to cells that are predicted to be `myofibroblasts`.\n",
    ">   - Derive cell counts by disease state.\n",
    ">   - Visualize the proportion of `myofibroblasts` within the reference collection in different diseases."
   ]
  },
  {
   "cell_type": "code",
   "execution_count": 0,
   "metadata": {
    "application/vnd.databricks.v1+cell": {
     "cellMetadata": {
      "byteLimit": 2048000,
      "rowLimit": 10000
     },
     "inputWidgets": {},
     "nuid": "87c78dad-a30c-4648-9188-bb3ec9bffe0d",
     "showTitle": false,
     "tableResultSettingsMap": {},
     "title": ""
    }
   },
   "outputs": [],
   "source": [
    "myofib_meta = ref_metadata[ref_metadata.prediction.isin([\"myofibroblast cell\"])]\n",
    "query_disease_frequencies = calculate_disease_proportions(myofib_meta)\n",
    "plot_proportions(\n",
    "    query_disease_frequencies[:20],\n",
    "    title=\"Disease Proportions for Reference Myofibroblasts\",\n",
    ")"
   ]
  },
  {
   "cell_type": "markdown",
   "metadata": {
    "application/vnd.databricks.v1+cell": {
     "cellMetadata": {
      "byteLimit": 2048000,
      "rowLimit": 10000
     },
     "inputWidgets": {},
     "nuid": "7be0f1ae-2ef8-405c-bba1-a2aac8324970",
     "showTitle": false,
     "tableResultSettingsMap": {},
     "title": ""
    }
   },
   "source": [
    "\n",
    "_`Per SCimilarity search_nearest tutorial`_\n",
    "\n",
    "> Over 50% of the `myofibroblasts` in the reference are from healthy tissues, while in our query they make up less than 5% of the cells most similar to our query. This [observation highlights] that these cells are in fact found in multiple conditions as [seen in the plot] earlier while they are more rare in healthy samples."
   ]
  },
  {
   "cell_type": "markdown",
   "metadata": {
    "application/vnd.databricks.v1+cell": {
     "cellMetadata": {
      "byteLimit": 2048000,
      "rowLimit": 10000
     },
     "inputWidgets": {},
     "nuid": "bee63b97-3f99-4c63-9cd8-6f78f2aa6b57",
     "showTitle": false,
     "tableResultSettingsMap": {},
     "title": ""
    }
   },
   "source": [
    "### NOTE:    \n",
    "For further information on data requirements in using modules from the SCimilarity package, please refer to [guidelines](https://genentech.github.io/scimilarity/notebooks/cell_search_tutorial_1.html#Conclusion) as well as to relevant [tutorials](https://genentech.github.io/scimilarity/tutorials.html) on the [official SCimilarity documentation](https://genentech.github.io/scimilarity/index.html). "
   ]
  },
  {
   "cell_type": "code",
   "execution_count": 0,
   "metadata": {
    "application/vnd.databricks.v1+cell": {
     "cellMetadata": {
      "byteLimit": 2048000,
      "rowLimit": 10000
     },
     "inputWidgets": {},
     "nuid": "a8ccc74e-fa52-493f-ab9a-0056871a72ff",
     "showTitle": true,
     "tableResultSettingsMap": {},
     "title": "STOP endpoints"
    },
    "jupyter": {
     "source_hidden": true
    }
   },
   "outputs": [],
   "source": [
    "# for endpoint in endpoints:\n",
    "#     # start_endpoint(databricks_instance, endpoint, DATABRICKS_TOKEN)\n",
    "#     stop_endpoint(databricks_instance, endpoint, DATABRICKS_TOKEN)\n"
   ]
  }
 ],
 "metadata": {
  "application/vnd.databricks.v1+notebook": {
   "computePreferences": {
    "hardware": {
     "accelerator": null,
     "gpuPoolId": null,
     "memory": "HIGH"
    }
   },
   "dashboards": [],
   "environmentMetadata": {
    "base_environment": "",
    "environment_version": "3"
   },
   "inputWidgetPreferences": null,
   "language": "python",
   "notebookMetadata": {
    "pythonIndentUnit": 4
   },
   "notebookName": "06_checkNuse_SCimilarityEndpoints_v0.4",
   "widgets": {
    "cache_dir": {
     "currentValue": "scimilarity",
     "nuid": "c55d2903-2f60-4c2d-a0f2-72f4c2e335a4",
     "typedWidgetInfo": {
      "autoCreated": false,
      "defaultValue": "scimilarity",
      "label": "Cache dir",
      "name": "cache_dir",
      "options": {
       "widgetDisplayType": "Text",
       "validationRegex": null
      },
      "parameterDataType": "String"
     },
     "widgetInfo": {
      "widgetType": "text",
      "defaultValue": "scimilarity",
      "label": "Cache dir",
      "name": "cache_dir",
      "options": {
       "widgetType": "text",
       "autoCreated": null,
       "validationRegex": null
      }
     }
    },
    "catalog": {
     "currentValue": "genesis_workbench",
     "nuid": "88c3fc9a-e856-4fc0-bb45-c64b008fa8f3",
     "typedWidgetInfo": {
      "autoCreated": false,
      "defaultValue": "genesis_workbench",
      "label": "Catalog",
      "name": "catalog",
      "options": {
       "widgetDisplayType": "Text",
       "validationRegex": null
      },
      "parameterDataType": "String"
     },
     "widgetInfo": {
      "widgetType": "text",
      "defaultValue": "genesis_workbench",
      "label": "Catalog",
      "name": "catalog",
      "options": {
       "widgetType": "text",
       "autoCreated": null,
       "validationRegex": null
      }
     }
    },
    "databricks_instance_url": {
     "currentValue": "adb-830292400663869.9.azuredatabricks.net",
     "nuid": "aa9e7684-11fb-4c02-9449-6c1a17743469",
     "typedWidgetInfo": {
      "autoCreated": false,
      "defaultValue": "adb-830292400663869.9.azuredatabricks.net",
      "label": "databricks_instance",
      "name": "databricks_instance_url",
      "options": {
       "widgetDisplayType": "Text",
       "validationRegex": null
      },
      "parameterDataType": "String"
     },
     "widgetInfo": {
      "widgetType": "text",
      "defaultValue": "adb-830292400663869.9.azuredatabricks.net",
      "label": "databricks_instance",
      "name": "databricks_instance_url",
      "options": {
       "widgetType": "text",
       "autoCreated": false,
       "validationRegex": null
      }
     }
    },
    "gene_order_endpoint_name": {
     "currentValue": "mmt_scimilarity_gene_order",
     "nuid": "f0a60280-690b-42e5-896a-1abd53ac7602",
     "typedWidgetInfo": {
      "autoCreated": false,
      "defaultValue": "mmt_scimilarity_gene_order",
      "label": "gene_order_endpoint",
      "name": "gene_order_endpoint_name",
      "options": {
       "widgetDisplayType": "Text",
       "validationRegex": null
      },
      "parameterDataType": "String"
     },
     "widgetInfo": {
      "widgetType": "text",
      "defaultValue": "mmt_scimilarity_gene_order",
      "label": "gene_order_endpoint",
      "name": "gene_order_endpoint_name",
      "options": {
       "widgetType": "text",
       "autoCreated": null,
       "validationRegex": null
      }
     }
    },
    "get_embedding_endpoint_name": {
     "currentValue": "mmt_scimilarity_get_embedding_v2test",
     "nuid": "9ca97fad-b722-48fb-9512-59625b041b4a",
     "typedWidgetInfo": {
      "autoCreated": false,
      "defaultValue": "mmt_scimilarity_get_embedding_v2test",
      "label": "get_embedding_endpoint",
      "name": "get_embedding_endpoint_name",
      "options": {
       "widgetDisplayType": "Text",
       "validationRegex": null
      },
      "parameterDataType": "String"
     },
     "widgetInfo": {
      "widgetType": "text",
      "defaultValue": "mmt_scimilarity_get_embedding_v2test",
      "label": "get_embedding_endpoint",
      "name": "get_embedding_endpoint_name",
      "options": {
       "widgetType": "text",
       "autoCreated": false,
       "validationRegex": null
      }
     }
    },
    "model_name": {
     "currentValue": "SCimilarity",
     "nuid": "b3ce5525-e2e2-4a07-8de1-64730648429e",
     "typedWidgetInfo": {
      "autoCreated": false,
      "defaultValue": "SCimilarity",
      "label": "Model Name",
      "name": "model_name",
      "options": {
       "widgetDisplayType": "Text",
       "validationRegex": null
      },
      "parameterDataType": "String"
     },
     "widgetInfo": {
      "widgetType": "text",
      "defaultValue": "SCimilarity",
      "label": "Model Name",
      "name": "model_name",
      "options": {
       "widgetType": "text",
       "autoCreated": null,
       "validationRegex": null
      }
     }
    },
    "schema": {
     "currentValue": "dev_mmt_core_test",
     "nuid": "70342927-3575-4e4e-ba3d-dc892e12e50c",
     "typedWidgetInfo": {
      "autoCreated": false,
      "defaultValue": "dev_mmt_core_test",
      "label": "Schema",
      "name": "schema",
      "options": {
       "widgetDisplayType": "Text",
       "validationRegex": null
      },
      "parameterDataType": "String"
     },
     "widgetInfo": {
      "widgetType": "text",
      "defaultValue": "dev_mmt_core_test",
      "label": "Schema",
      "name": "schema",
      "options": {
       "widgetType": "text",
       "autoCreated": null,
       "validationRegex": null
      }
     }
    },
    "search_nearest_endpoint_name": {
     "currentValue": "mmt_scimilarity_search_nearest",
     "nuid": "48ca914f-0c96-4f9f-a694-dbc7faf125d6",
     "typedWidgetInfo": {
      "autoCreated": false,
      "defaultValue": "mmt_scimilarity_search_nearest",
      "label": "search_nearest_endpoint",
      "name": "search_nearest_endpoint_name",
      "options": {
       "widgetDisplayType": "Text",
       "validationRegex": null
      },
      "parameterDataType": "String"
     },
     "widgetInfo": {
      "widgetType": "text",
      "defaultValue": "mmt_scimilarity_search_nearest",
      "label": "search_nearest_endpoint",
      "name": "search_nearest_endpoint_name",
      "options": {
       "widgetType": "text",
       "autoCreated": false,
       "validationRegex": null
      }
     }
    }
   }
  },
  "language_info": {
   "name": "python"
  }
 },
 "nbformat": 4,
 "nbformat_minor": 0
}
