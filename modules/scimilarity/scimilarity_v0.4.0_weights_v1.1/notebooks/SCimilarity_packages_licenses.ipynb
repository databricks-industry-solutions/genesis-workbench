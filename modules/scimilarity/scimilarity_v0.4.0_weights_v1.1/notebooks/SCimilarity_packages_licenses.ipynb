{
 "cells": [
  {
   "cell_type": "markdown",
   "metadata": {
    "application/vnd.databricks.v1+cell": {
     "cellMetadata": {},
     "inputWidgets": {},
     "nuid": "5019ccbf-b7a4-4d28-b192-1f6e040628e3",
     "showTitle": false,
     "tableResultSettingsMap": {},
     "title": ""
    }
   },
   "source": [
    "\n",
    "#### SCimilarity \n",
    "\n",
    "Module | Package | License | Source\n",
    "-------- | ------- | ------- | --------\n",
    "SCimilarity | SCimilarity |\tApache2.0 | https://github.com/Genentech/scimilarity\n",
    "SCimilarity | Mlflow\t| Apache2.0 | https://github.com/mlflow/mlflow\n",
    "SCimilarity | 'torch' / PyTorch | BSD-3-Clause | https://pypi.org/project/torch/2.7.1/\n",
    "SCimilarity | scanpy |\tBSD 3-Clause | https://github.com/scverse/scanpy\n",
    "SCimilarity | numcodecs |\tMIT | https://github.com/zarr-developers/numcodecs\n",
    "SCimilarity | tbb\t| Apache2.0 | https://github.com/uxlfoundation/oneTBB \n",
    "SCimilarity | typing_extensions\t| PSF | https://github.com/python/typing_extensions\n",
    "SCimilarity | numpy |\tBSD [https://numpy.org/] | https://github.com/numpy/numpy\n",
    "SCimilarity | pandas | BSD 3-Clause | https://github.com/pandas-dev/pandas\n",
    "SCimilarity | uv | Apache2.0 | https://github.com/astral-sh/uv\n",
    "\n",
    "\n",
    "<!-- -------- | ------- | ------- | -------- -->\n",
    "<!-- TBD -->\n",
    "<!-- SCimilarity | anndata | BSD 3-Clause | https://github.com/scverse/anndata [? not directly called] -->\n",
    "<!-- SCimilarity | 'torch' / PyTorch | BSD-3-Clause | https://pypi.org/project/torch/2.7.1/ [?] -->\n",
    "\n",
    "<!-- torch.__version__ #'2.7.1+cu126' | In essence, PyTorch built upon the foundational ideas of Torch, adapting them to the modern deep learning landscape with a strong emphasis on usability and integration within the Python ecosystem. While the original Torch still exists, PyTorch is the actively developed and widely used framework today. It is important to note that when installing PyTorch via pip, the package name is simply torch.-->"
   ]
  }
 ],
 "metadata": {
  "application/vnd.databricks.v1+notebook": {
   "computePreferences": null,
   "dashboards": [],
   "environmentMetadata": {
    "base_environment": "",
    "environment_version": "2"
   },
   "inputWidgetPreferences": null,
   "language": "python",
   "notebookMetadata": {
    "pythonIndentUnit": 4
   },
   "notebookName": "SCimilarity_packages_licenses",
   "widgets": {}
  },
  "language_info": {
   "name": "python"
  }
 },
 "nbformat": 4,
 "nbformat_minor": 0
}
