{
 "cells": [
  {
   "cell_type": "code",
   "execution_count": 0,
   "metadata": {
    "application/vnd.databricks.v1+cell": {
     "cellMetadata": {
      "byteLimit": 2048000,
      "rowLimit": 10000
     },
     "inputWidgets": {},
     "nuid": "aa344a66-c0f9-49d8-9fef-77a4601b7885",
     "showTitle": false,
     "tableResultSettingsMap": {},
     "title": ""
    }
   },
   "outputs": [],
   "source": [
    "# dbutils.widgets.removeAll()"
   ]
  },
  {
   "cell_type": "code",
   "execution_count": 0,
   "metadata": {
    "application/vnd.databricks.v1+cell": {
     "cellMetadata": {
      "byteLimit": 2048000,
      "rowLimit": 10000
     },
     "inputWidgets": {},
     "nuid": "1d335f02-6a35-4a6a-9358-d31f59cea3df",
     "showTitle": true,
     "tableResultSettingsMap": {},
     "title": "START endpoints first"
    }
   },
   "outputs": [],
   "source": [
    "import requests\n",
    "\n",
    "# Define the endpoint names\n",
    "endpoints = [\n",
    "    \"mmt_scimilarity_gene_order\",\n",
    "    \"mmt_scimilarity_get_embedding\",\n",
    "    \"mmt_scimilarity_search_nearest\"\n",
    "]\n",
    "\n",
    "# Define the Databricks instance and token\n",
    "databricks_instance = \"adb-830292400663869.9.azuredatabricks.net\"\n",
    "DATABRICKS_TOKEN = dbutils.secrets.get(\"mmt\", \"databricks_token\")\n",
    "\n",
    "# Function to start an endpoint\n",
    "def start_endpoint(databricks_instance, endpoint_name, token):\n",
    "    url = f\"https://{databricks_instance}/api/2.0/serving-endpoints/{endpoint_name}/config:start\"\n",
    "    headers = {\n",
    "        \"Authorization\": f\"Bearer {token}\",\n",
    "        \"Content-Type\": \"application/json\"\n",
    "    }\n",
    "    response = requests.post(url, headers=headers)\n",
    "    if response.status_code == 200:\n",
    "        print(f\"Successfully started endpoint: {endpoint_name}\")\n",
    "    else:\n",
    "        print(f\"Failed to start endpoint: {endpoint_name}, Status Code: {response.status_code}, Response: {response.text}\")\n",
    "\n",
    "\n",
    "# Function to stop an endpoint\n",
    "def stop_endpoint(databricks_instance, endpoint_name, token):\n",
    "    url = f\"https://{databricks_instance}/api/2.0/serving-endpoints/{endpoint_name}/config:stop\"\n",
    "    headers = {\n",
    "        \"Authorization\": f\"Bearer {token}\",\n",
    "        \"Content-Type\": \"application/json\"\n",
    "    }\n",
    "    response = requests.post(url, headers=headers)\n",
    "    if response.status_code == 200:\n",
    "        print(f\"Successfully stopped endpoint: {endpoint_name}\")\n",
    "    else:\n",
    "        print(f\"Failed to stop endpoint: {endpoint_name}, Status Code: {response.status_code}, Response: {response.text}\")\n",
    "\n",
    "\n",
    "# Function to check the status of an endpoint\n",
    "def check_endpoint_status(databricks_instance, endpoint_name, token):\n",
    "    url = f\"https://{databricks_instance}/api/2.0/serving-endpoints/{endpoint_name}\"\n",
    "    headers = {\n",
    "        \"Authorization\": f\"Bearer {token}\",\n",
    "        \"Content-Type\": \"application/json\"\n",
    "    }\n",
    "    response = requests.get(url, headers=headers)\n",
    "    if response.status_code == 200:\n",
    "        status = response.json().get(\"state\", {}).get(\"ready\", \"Unknown\")\n",
    "        print(f\"Endpoint: {endpoint_name}, Status: {status}\")\n",
    "        return status\n",
    "    else:\n",
    "        print(f\"Failed to check status of endpoint: {endpoint_name}, Status Code: {response.status_code}, Response: {response.text}\")\n",
    "        return \"Unknown\"\n",
    "    \n",
    "\n",
    "## Example USAGE\n",
    "# Loop through the endpoints and start/stop them OR check their status\n",
    "# for endpoint in endpoints:\n",
    "#     start_endpoint(databricks_instance, endpoint, DATABRICKS_TOKEN)\n",
    "    # stop_endpoint(databricks_instance, endpoint, DATABRICKS_TOKEN)\n",
    "    # check_endpoint_status(databricks_instance, endpoint, DATABRICKS_TOKEN)"
   ]
  },
  {
   "cell_type": "code",
   "execution_count": 0,
   "metadata": {
    "application/vnd.databricks.v1+cell": {
     "cellMetadata": {
      "byteLimit": 2048000,
      "rowLimit": 10000
     },
     "inputWidgets": {},
     "nuid": "f0cebc84-b275-4d06-884e-2746f5444674",
     "showTitle": true,
     "tableResultSettingsMap": {},
     "title": "START endpoints"
    }
   },
   "outputs": [],
   "source": [
    "# endpoint_status = []\n",
    "\n",
    "for endpoint in endpoints:\n",
    "    start_endpoint(databricks_instance, endpoint, DATABRICKS_TOKEN)\n",
    "    # stop_endpoint(databricks_instance, endpoint, DATABRICKS_TOKEN)\n",
    "    \n",
    "#     endpoint_status.append(check_endpoint_status(databricks_instance, endpoint, DATABRICKS_TOKEN))\n",
    "\n",
    "# endpoint_status"
   ]
  },
  {
   "cell_type": "code",
   "execution_count": 0,
   "metadata": {
    "application/vnd.databricks.v1+cell": {
     "cellMetadata": {
      "byteLimit": 2048000,
      "rowLimit": 10000
     },
     "inputWidgets": {},
     "nuid": "13b7b52e-0cd1-4ceb-b6c2-8f88b2bca324",
     "showTitle": true,
     "tableResultSettingsMap": {},
     "title": "wait_until_endpoints_ready"
    }
   },
   "outputs": [],
   "source": [
    "# ~15mins\n",
    "\n",
    "import time\n",
    "\n",
    "# Function to wait until all endpoints are ready\n",
    "def wait_until_endpoints_ready(databricks_instance, endpoints, token, check_interval=60):\n",
    "    all_ready = False\n",
    "    while not all_ready:\n",
    "        all_ready = True\n",
    "        for endpoint in endpoints:\n",
    "            status = check_endpoint_status(databricks_instance, endpoint, token)\n",
    "            if status != \"READY\":\n",
    "                all_ready = False\n",
    "                print(f\"Endpoint {endpoint} is not ready yet. Checking again in {check_interval} seconds...\")\n",
    "                break\n",
    "        if not all_ready:\n",
    "            time.sleep(check_interval)\n",
    "    print(\"All endpoints are ready!\")\n",
    "\n",
    "### \n",
    "wait_until_endpoints_ready(databricks_instance, endpoints, DATABRICKS_TOKEN, check_interval=60)"
   ]
  },
  {
   "cell_type": "markdown",
   "metadata": {
    "application/vnd.databricks.v1+cell": {
     "cellMetadata": {},
     "inputWidgets": {},
     "nuid": "b781890e-63c4-4d7e-863d-bb61753e2a13",
     "showTitle": false,
     "tableResultSettingsMap": {},
     "title": ""
    }
   },
   "source": []
  }
 ],
 "metadata": {
  "application/vnd.databricks.v1+notebook": {
   "computePreferences": null,
   "dashboards": [],
   "environmentMetadata": {
    "base_environment": "",
    "environment_version": "2"
   },
   "inputWidgetPreferences": null,
   "language": "python",
   "notebookMetadata": {
    "pythonIndentUnit": 4
   },
   "notebookName": "start_stop_check_endpoints",
   "widgets": {}
  },
  "language_info": {
   "name": "python"
  }
 },
 "nbformat": 4,
 "nbformat_minor": 0
}
