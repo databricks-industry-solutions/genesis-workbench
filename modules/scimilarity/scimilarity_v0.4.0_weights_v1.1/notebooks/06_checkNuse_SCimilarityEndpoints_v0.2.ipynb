{
 "cells": [
  {
   "cell_type": "markdown",
   "metadata": {
    "application/vnd.databricks.v1+cell": {
     "cellMetadata": {},
     "inputWidgets": {},
     "nuid": "360591cf-8cd3-4df6-a4f1-3e30b4bbc4d2",
     "showTitle": false,
     "tableResultSettingsMap": {},
     "title": ""
    }
   },
   "source": [
    "ref: https://genentech.github.io/scimilarity/notebooks/cell_search_tutorial_1.html"
   ]
  },
  {
   "cell_type": "code",
   "execution_count": 0,
   "metadata": {
    "application/vnd.databricks.v1+cell": {
     "cellMetadata": {
      "byteLimit": 2048000,
      "rowLimit": 10000
     },
     "inputWidgets": {},
     "nuid": "2ff60fb3-d31c-4da6-82d3-f380cebda0d2",
     "showTitle": true,
     "tableResultSettingsMap": {},
     "title": "Define necessary imports and install required packages"
    }
   },
   "outputs": [],
   "source": [
    "requirements = [\n",
    "    \"scimilarity==0.4.0\",\n",
    "    \"typing_extensions>=4.14.0\",\n",
    "    \"numpy==1.26.4\",\n",
    "    \"pandas==1.5.3\",\n",
    "    \"mlflow==2.22.0\",\n",
    "    \"tbb>=2021.6.0\",\n",
    "    # \"uv\"\n",
    "]\n",
    "\n",
    "for package in requirements:\n",
    "    %pip install {package} --upgrade -v\n",
    "\n",
    "dbutils.library.restartPython()"
   ]
  },
  {
   "cell_type": "code",
   "execution_count": 0,
   "metadata": {
    "application/vnd.databricks.v1+cell": {
     "cellMetadata": {
      "byteLimit": 2048000,
      "rowLimit": 10000
     },
     "inputWidgets": {},
     "nuid": "8f6c5ca9-8a59-4eec-aec0-a4acbae03cda",
     "showTitle": true,
     "tableResultSettingsMap": {},
     "title": "threading config"
    }
   },
   "outputs": [],
   "source": [
    "# Import numba after installing the required packages\n",
    "import numba\n",
    "\n",
    "# Set this at the beginning of your notebook/script\n",
    "numba.config.THREADING_LAYER = 'workqueue'  # Most compatible option\n",
    "# Other options: 'omp' (OpenMP) or 'tbb' (default)"
   ]
  },
  {
   "cell_type": "code",
   "execution_count": 0,
   "metadata": {
    "application/vnd.databricks.v1+cell": {
     "cellMetadata": {
      "byteLimit": 2048000,
      "rowLimit": 10000
     },
     "inputWidgets": {},
     "nuid": "886f40ef-0d29-4209-9dac-d9120334e682",
     "showTitle": true,
     "tableResultSettingsMap": {},
     "title": "widget variables"
    }
   },
   "outputs": [],
   "source": [
    "## for nb devs -- these get overwritten wrt deployment args\n",
    "dbutils.widgets.text(\"catalog\", \"genesis_workbench\", \"Catalog\")\n",
    "dbutils.widgets.text(\"schema\", \"dev_mmt_core_test\", \"Schema\") \n",
    "\n",
    "dbutils.widgets.text(\"model_name\", \"SCimilarity\", \"Model Name\") ## use this as a prefix for the model name ?\n",
    "\n",
    "dbutils.widgets.text(\"cache_dir\", \"scimilarity\", \"Cache dir\") ## VOLUME NAME | MODEL_FAMILY \n",
    "\n",
    "CATALOG = dbutils.widgets.get(\"catalog\")\n",
    "SCHEMA = dbutils.widgets.get(\"schema\")\n",
    "\n",
    "MODEL_NAME = dbutils.widgets.get(\"model_name\")\n",
    "\n",
    "CACHE_DIR = dbutils.widgets.get(\"cache_dir\")\n",
    "\n",
    "print(f\"Cache dir: {CACHE_DIR}\")\n",
    "cache_full_path = f\"/Volumes/{CATALOG}/{SCHEMA}/{CACHE_DIR}\"\n",
    "print(f\"Cache full path: {cache_full_path}\")"
   ]
  },
  {
   "cell_type": "code",
   "execution_count": 0,
   "metadata": {
    "application/vnd.databricks.v1+cell": {
     "cellMetadata": {
      "byteLimit": 2048000,
      "rowLimit": 10000
     },
     "inputWidgets": {},
     "nuid": "d60d5f53-9831-43ba-aff2-9a25eedade25",
     "showTitle": true,
     "tableResultSettingsMap": {},
     "title": "UC paths"
    }
   },
   "outputs": [],
   "source": [
    "CATALOG = CATALOG #\"mmt\"\n",
    "DB_SCHEMA = SCHEMA #\"tests\" | \"genesiswb\"\n",
    "\n",
    "# VOLUME_NAME | PROJECT \n",
    "MODEL_FAMILY = CACHE_DIR ## CACHE_DIR #\"scimilarity\"\n",
    "\n",
    "# MODEL_NAME #\"SCimilarity\" \n",
    "\n",
    "print(\"CATALOG :\", CATALOG)\n",
    "print(\"DB_SCHEMA :\", DB_SCHEMA)\n",
    "print(\"MODEL_FAMILY :\", MODEL_FAMILY)"
   ]
  },
  {
   "cell_type": "code",
   "execution_count": 0,
   "metadata": {
    "application/vnd.databricks.v1+cell": {
     "cellMetadata": {
      "byteLimit": 2048000,
      "rowLimit": 10000
     },
     "inputWidgets": {},
     "nuid": "effbe09c-7eac-4f54-abf9-ea342f6f928e",
     "showTitle": true,
     "tableResultSettingsMap": {},
     "title": "import dependencies"
    }
   },
   "outputs": [],
   "source": [
    "# from scimilarity import CellQuery, CellEmbedding ## these are the functions we wrapped in MLflow PyFunc\n",
    "from scimilarity import align_dataset, lognorm_counts\n",
    "\n",
    "import scanpy as sc\n",
    "from scipy import sparse\n",
    "\n",
    "import numpy as np\n",
    "import pandas as pd\n",
    "import json\n",
    "import requests\n",
    "\n",
    "import os\n",
    "\n",
    "from collections.abc import MutableMapping  # "
   ]
  },
  {
   "cell_type": "code",
   "execution_count": 0,
   "metadata": {
    "application/vnd.databricks.v1+cell": {
     "cellMetadata": {
      "byteLimit": 2048000,
      "rowLimit": 10000
     },
     "inputWidgets": {},
     "nuid": "877e86c9-12d4-4849-9308-a3c29da8a955",
     "showTitle": true,
     "tableResultSettingsMap": {},
     "title": "Define Endpoint API Inferencing Functions"
    }
   },
   "outputs": [],
   "source": [
    "def create_serving_json(data, params=None):\n",
    "    # Function to create Serving JSON format\n",
    "    return {\"instances\": data} if params is None else {\"instances\": data, \"params\": params}\n",
    "\n",
    "def api_inference(databricks_instance, endpoint_name, data_input, params=None):\n",
    "    url = f'https://{databricks_instance}/serving-endpoints/{endpoint_name}/invocations'\n",
    "    headers = {\n",
    "        'Authorization': f'Bearer {os.environ.get(\"DATABRICKS_TOKEN\")}',\n",
    "        'Content-Type': 'application/json'\n",
    "    }\n",
    "    \n",
    "    if isinstance(data_input, pd.DataFrame):\n",
    "        ds_dict = {'dataframe_split': data_input.to_dict(orient='split')}\n",
    "        if params:\n",
    "            ds_dict['params'] = params\n",
    "    else:\n",
    "        ds_dict = create_serving_json(data_input, params)\n",
    "    \n",
    "    data_json = json.dumps(ds_dict, allow_nan=True)\n",
    "    response = requests.post(url, headers=headers, data=data_json)\n",
    "    \n",
    "    if response.status_code == 200:\n",
    "        try:\n",
    "            return response.json()\n",
    "        except json.JSONDecodeError:\n",
    "            return {\"error\": \"Invalid JSON response\", \"response_text\": response.text}\n",
    "    else:\n",
    "        return {\"error\": f\"HTTP {response.status_code}\", \"response_text\": response.text}"
   ]
  },
  {
   "cell_type": "code",
   "execution_count": 0,
   "metadata": {
    "application/vnd.databricks.v1+cell": {
     "cellMetadata": {
      "byteLimit": 2048000,
      "rowLimit": 10000
     },
     "inputWidgets": {},
     "nuid": "32c14453-c0f6-49b6-a066-463c458932fe",
     "showTitle": true,
     "tableResultSettingsMap": {},
     "title": "Define Scimilarity Inference Calling Functions"
    }
   },
   "outputs": [],
   "source": [
    "# def derive_gene_order(endpoint_name = \"mmt_scimilarity_gene_order\") -> list[str]:  \n",
    "def derive_gene_order(databricks_instance, endpoint_name) -> list[str]:  \n",
    "    example_input = pd.DataFrame({\"input\": [\"get_gene_order\"]})\n",
    "    get_gene_order = api_inference(databricks_instance, endpoint_name, data_input=example_input)\n",
    "    return get_gene_order['predictions']\n",
    "\n",
    "# gene_order = derive_gene_order()\n",
    "\n",
    "def derive_embedding(databricks_instance, endpoint_name, data_input) -> list[str]:  \n",
    "    ## data_input: X_vals\n",
    "    example_input = pd.DataFrame([{'subsample_query_array': data_input.toarray()[0].tolist() }]) ## required input formatting \n",
    "    # get_embeddings = api_inference(databricks_instance, endpoint_name=\"mmt_scimilarity_get_embedding\", data_input=example_input)\n",
    "    get_embeddings = api_inference(databricks_instance, endpoint_name, data_input=example_input)\n",
    "    return get_embeddings['predictions'][0]['embedding']#[0]\n",
    "\n",
    "# cell_embedding = derive_embedding(endpoint_name = \"mmt_scimilarity_get_embedding\", data_input = X_vals)\n",
    "\n",
    "def search_nearest(databricks_instance, endpoint_name, embedding, params = {'k': 10}) -> dict:\n",
    "    example_input = pd.DataFrame({\"embedding\": embedding})\n",
    "    return api_inference(databricks_instance, endpoint_name, data_input=example_input, params = params)"
   ]
  },
  {
   "cell_type": "code",
   "execution_count": 0,
   "metadata": {
    "application/vnd.databricks.v1+cell": {
     "cellMetadata": {
      "byteLimit": 2048000,
      "rowLimit": 10000
     },
     "inputWidgets": {},
     "nuid": "187eaf36-03c3-4beb-a065-446140436d5b",
     "showTitle": true,
     "tableResultSettingsMap": {},
     "title": "debug/check"
    }
   },
   "outputs": [],
   "source": [
    "data_input = X_vals\n",
    "endpoint_name = \"mmt_scimilarity_get_embedding\"\n",
    "example_input = pd.DataFrame([{'subsample_query_array': data_input.toarray()[0].tolist() }]) ## required input formatting \n",
    "# get_embeddings = api_inference(databricks_instance, endpoint_name=\"mmt_scimilarity_get_embedding\", data_input=example_input)\n",
    "get_embeddings = api_inference(databricks_instance, endpoint_name, data_input=example_input)"
   ]
  },
  {
   "cell_type": "code",
   "execution_count": 0,
   "metadata": {
    "application/vnd.databricks.v1+cell": {
     "cellMetadata": {
      "byteLimit": 2048000,
      "rowLimit": 10000
     },
     "inputWidgets": {},
     "nuid": "f5e84bf1-e5d9-4704-98c7-be0a7ea07e42",
     "showTitle": false,
     "tableResultSettingsMap": {},
     "title": ""
    }
   },
   "outputs": [],
   "source": [
    "get_embeddings\n",
    "# {'error': 'HTTP 504', 'response_text': 'upstream request timeout'} #need a way to handle this WITH RETRYS"
   ]
  },
  {
   "cell_type": "code",
   "execution_count": 0,
   "metadata": {
    "application/vnd.databricks.v1+cell": {
     "cellMetadata": {
      "byteLimit": 2048000,
      "rowLimit": 10000
     },
     "inputWidgets": {},
     "nuid": "12baf8f7-e1d5-4008-bd90-19a24451132e",
     "showTitle": true,
     "tableResultSettingsMap": {},
     "title": "\"configs\""
    }
   },
   "outputs": [],
   "source": [
    "import os \n",
    "DATABRICKS_TOKEN = dbutils.secrets.get(\"mmt\",\"databricks_token\")\n",
    "os.environ[\"DATABRICKS_TOKEN\"] = DATABRICKS_TOKEN\n",
    "\n",
    "databricks_instance = \"adb-830292400663869.9.azuredatabricks.net\"\n",
    "\n",
    "## testing endpoints -- to update with gwb-app ones... \n",
    "gene_order_endpoint = \"mmt_scimilarity_gene_order\"\n",
    "get_embedding_endpoint = \"mmt_scimilarity_get_embedding\"\n",
    "search_nearest_endpoint = \"mmt_scimilarity_search_nearest\""
   ]
  },
  {
   "cell_type": "code",
   "execution_count": 0,
   "metadata": {
    "application/vnd.databricks.v1+cell": {
     "cellMetadata": {
      "byteLimit": 2048000,
      "rowLimit": 10000
     },
     "collapsed": true,
     "inputWidgets": {},
     "nuid": "dd8ea94a-a3a3-4a9d-bb2d-302b15546285",
     "showTitle": true,
     "tableResultSettingsMap": {},
     "title": "test"
    }
   },
   "outputs": [],
   "source": [
    "# example_input = pd.DataFrame({\"input\": [\"get_gene_order\"]})\n",
    "# get_gene_order = api_inference(databricks_instance, endpoint_name=\"mmt_SCimilarity_gene_order\", data_input=example_input)\n",
    "# get_gene_order['predictions']\n",
    "\n",
    "# derive_gene_order(databricks_instance, endpoint_name = \"mmt_scimilarity_gene_order\")  \n",
    "# derive_gene_order(databricks_instance, endpoint_name = gene_order_endpoint) "
   ]
  },
  {
   "cell_type": "code",
   "execution_count": 0,
   "metadata": {
    "application/vnd.databricks.v1+cell": {
     "cellMetadata": {
      "byteLimit": 2048000,
      "rowLimit": 10000
     },
     "inputWidgets": {},
     "nuid": "0a637bbe-3a3b-42bd-95fe-b36695f94636",
     "showTitle": true,
     "tableResultSettingsMap": {},
     "title": "process  sampledata"
    }
   },
   "outputs": [],
   "source": [
    "sampledata_path = f\"/Volumes/{CATALOG}/{DB_SCHEMA}/{MODEL_FAMILY}/data/adams_etal_2020/GSE136831_subsample.h5ad\"\n",
    "\n",
    "## READ sample czi dataset H5AD file + align + lognorm \n",
    "adams = sc.read(sampledata_path)\n",
    "\n",
    "# gene_order = derive_gene_order(databricks_instance, endpoint_name = \"mmt_scimilarity_gene_order\")\n",
    "gene_order = derive_gene_order(databricks_instance, endpoint_name = gene_order_endpoint)\n",
    "aligned = align_dataset(adams, gene_order) #\n",
    "\n",
    "lognorm = lognorm_counts(aligned)\n",
    "\n",
    "### Filter sample data to \"Disease\" | celltype: \"myofibroblast cell\" | sample_ref: \"DS000011735-GSM4058950\"  \n",
    "adams_ipf = lognorm[lognorm.obs[\"Disease\"] == \"IPF\"].copy()\n",
    "\n",
    "adams_myofib = adams_ipf[\n",
    "                          adams_ipf.obs[\"celltype_name\"] == \"myofibroblast cell\"\n",
    "                        ].copy()\n",
    "\n",
    "## Extract list for sample_ref\n",
    "subsample = adams_myofib[\n",
    "                          adams_myofib.obs[\"sample\"] == \"DS000011735-GSM4058950\" # sample ref \n",
    "                        ].copy()\n",
    "\n",
    "## extract specific index in subsample | test batch inference? \n",
    "# query_cell = subsample[subsample.obs.index == \"123942\"]\n",
    "# query_cell = subsample[subsample.obs.index == \"124332\"]\n",
    "query_cell = subsample[subsample.obs.index == \"126138\"]\n",
    "\n",
    "## extract subsample query (1d array or list)\n",
    "X_vals: sparse.csr_matrix = query_cell.X\n",
    "X_vals"
   ]
  },
  {
   "cell_type": "code",
   "execution_count": 0,
   "metadata": {
    "application/vnd.databricks.v1+cell": {
     "cellMetadata": {
      "byteLimit": 2048000,
      "rowLimit": 10000
     },
     "collapsed": true,
     "inputWidgets": {},
     "nuid": "831af371-15e3-4daa-85f1-a98627235cfa",
     "showTitle": false,
     "tableResultSettingsMap": {},
     "title": ""
    }
   },
   "outputs": [],
   "source": [
    "# from pyspark.sql import Row\n",
    "# import numpy as np\n",
    "\n",
    "# # Convert the sparse matrix to a dense format\n",
    "# dense_X_vals = X_vals.todense()\n",
    "\n",
    "# # Convert the dense matrix to a list of lists\n",
    "# dense_X_vals_list = dense_X_vals.tolist()\n",
    "\n",
    "# # Create a list of Rows\n",
    "# rows = [Row(embedding=row) for row in dense_X_vals_list]\n",
    "\n",
    "# # Create a Spark DataFrame from the list of Rows\n",
    "# query_cell_spark_df = spark.createDataFrame(rows)\n",
    "\n",
    "# # Display the Spark DataFrame\n",
    "# display(query_cell_spark_df)"
   ]
  },
  {
   "cell_type": "code",
   "execution_count": 0,
   "metadata": {
    "application/vnd.databricks.v1+cell": {
     "cellMetadata": {
      "byteLimit": 2048000,
      "rowLimit": 10000
     },
     "inputWidgets": {},
     "nuid": "fd10d751-3459-41dc-9d9c-02a83dc314f4",
     "showTitle": true,
     "tableResultSettingsMap": {},
     "title": "subsample.obs ?"
    }
   },
   "outputs": [],
   "source": [
    "subsample.obs"
   ]
  },
  {
   "cell_type": "code",
   "execution_count": 0,
   "metadata": {
    "application/vnd.databricks.v1+cell": {
     "cellMetadata": {
      "byteLimit": 2048000,
      "rowLimit": 10000
     },
     "inputWidgets": {},
     "nuid": "24b2d957-9c4f-4052-bf84-c9ef7c19deb0",
     "showTitle": true,
     "tableResultSettingsMap": {},
     "title": "derive_embedding"
    }
   },
   "outputs": [],
   "source": [
    "cell_embedding = derive_embedding(databricks_instance, endpoint_name = \"mmt_scimilarity_get_embedding\", data_input = X_vals)\n",
    "\n",
    "# cell_embedding = derive_embedding(databricks_instance, endpoint_name = get_embedding_endpoint, data_input = X_vals)\n",
    "\n",
    "cell_embedding"
   ]
  },
  {
   "cell_type": "code",
   "execution_count": 0,
   "metadata": {
    "application/vnd.databricks.v1+cell": {
     "cellMetadata": {
      "byteLimit": 2048000,
      "rowLimit": 10000
     },
     "inputWidgets": {},
     "nuid": "034670cb-22c2-4c78-b93f-ac7dba9a4723",
     "showTitle": true,
     "tableResultSettingsMap": {},
     "title": "search_nearest"
    }
   },
   "outputs": [],
   "source": [
    "knn_results = search_nearest(\n",
    "                             databricks_instance,\n",
    "                            #  endpoint_name = \"mmt_scimilarity_search_nearest\",\n",
    "                             endpoint_name = search_nearest_endpoint,\n",
    "                             embedding = cell_embedding,\n",
    "                             params={'k': 5}\n",
    "                            )\n",
    "\n",
    "knn_results"
   ]
  },
  {
   "cell_type": "code",
   "execution_count": 0,
   "metadata": {
    "application/vnd.databricks.v1+cell": {
     "cellMetadata": {},
     "inputWidgets": {},
     "nuid": "29b9df37-84df-4f61-9e78-4bd54e9fe8d5",
     "showTitle": false,
     "tableResultSettingsMap": {},
     "title": ""
    }
   },
   "outputs": [],
   "source": []
  },
  {
   "cell_type": "code",
   "execution_count": 0,
   "metadata": {
    "application/vnd.databricks.v1+cell": {
     "cellMetadata": {},
     "inputWidgets": {},
     "nuid": "e906313e-09e1-451a-ac19-04a0d3c8a4b9",
     "showTitle": false,
     "tableResultSettingsMap": {},
     "title": ""
    }
   },
   "outputs": [],
   "source": [
    "## todo\n",
    "# -test batch inference -- need to convert sample queries to spark dataframe\n",
    "# -test ai_query() | initial testing encountered formatting issues "
   ]
  }
 ],
 "metadata": {
  "application/vnd.databricks.v1+notebook": {
   "computePreferences": null,
   "dashboards": [],
   "environmentMetadata": {
    "base_environment": "",
    "environment_version": "2"
   },
   "inputWidgetPreferences": null,
   "language": "python",
   "notebookMetadata": {
    "pythonIndentUnit": 4
   },
   "notebookName": "06_checkNuse_SCimilarityEndpoints_v0.2",
   "widgets": {
    "cache_dir": {
     "currentValue": "scimilarity",
     "nuid": "c55d2903-2f60-4c2d-a0f2-72f4c2e335a4",
     "typedWidgetInfo": {
      "autoCreated": false,
      "defaultValue": "scimilarity",
      "label": "Cache dir",
      "name": "cache_dir",
      "options": {
       "widgetDisplayType": "Text",
       "validationRegex": null
      },
      "parameterDataType": "String"
     },
     "widgetInfo": {
      "widgetType": "text",
      "defaultValue": "scimilarity",
      "label": "Cache dir",
      "name": "cache_dir",
      "options": {
       "widgetType": "text",
       "autoCreated": null,
       "validationRegex": null
      }
     }
    },
    "catalog": {
     "currentValue": "genesis_workbench",
     "nuid": "88c3fc9a-e856-4fc0-bb45-c64b008fa8f3",
     "typedWidgetInfo": {
      "autoCreated": false,
      "defaultValue": "genesis_workbench",
      "label": "Catalog",
      "name": "catalog",
      "options": {
       "widgetDisplayType": "Text",
       "validationRegex": null
      },
      "parameterDataType": "String"
     },
     "widgetInfo": {
      "widgetType": "text",
      "defaultValue": "genesis_workbench",
      "label": "Catalog",
      "name": "catalog",
      "options": {
       "widgetType": "text",
       "autoCreated": null,
       "validationRegex": null
      }
     }
    },
    "model_name": {
     "currentValue": "SCimilarity",
     "nuid": "b3ce5525-e2e2-4a07-8de1-64730648429e",
     "typedWidgetInfo": {
      "autoCreated": false,
      "defaultValue": "SCimilarity",
      "label": "Model Name",
      "name": "model_name",
      "options": {
       "widgetDisplayType": "Text",
       "validationRegex": null
      },
      "parameterDataType": "String"
     },
     "widgetInfo": {
      "widgetType": "text",
      "defaultValue": "SCimilarity",
      "label": "Model Name",
      "name": "model_name",
      "options": {
       "widgetType": "text",
       "autoCreated": null,
       "validationRegex": null
      }
     }
    },
    "schema": {
     "currentValue": "dev_mmt_core_test",
     "nuid": "70342927-3575-4e4e-ba3d-dc892e12e50c",
     "typedWidgetInfo": {
      "autoCreated": false,
      "defaultValue": "dev_mmt_core_test",
      "label": "Schema",
      "name": "schema",
      "options": {
       "widgetDisplayType": "Text",
       "validationRegex": null
      },
      "parameterDataType": "String"
     },
     "widgetInfo": {
      "widgetType": "text",
      "defaultValue": "dev_mmt_core_test",
      "label": "Schema",
      "name": "schema",
      "options": {
       "widgetType": "text",
       "autoCreated": null,
       "validationRegex": null
      }
     }
    }
   }
  },
  "language_info": {
   "name": "python"
  }
 },
 "nbformat": 4,
 "nbformat_minor": 0
}
