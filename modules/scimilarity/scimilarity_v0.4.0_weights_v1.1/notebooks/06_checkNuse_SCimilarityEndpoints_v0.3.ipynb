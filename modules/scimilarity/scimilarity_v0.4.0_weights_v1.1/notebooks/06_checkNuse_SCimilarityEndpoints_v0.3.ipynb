{
 "cells": [
  {
   "cell_type": "markdown",
   "metadata": {
    "application/vnd.databricks.v1+cell": {
     "cellMetadata": {
      "byteLimit": 2048000,
      "rowLimit": 10000
     },
     "inputWidgets": {},
     "nuid": "360591cf-8cd3-4df6-a4f1-3e30b4bbc4d2",
     "showTitle": false,
     "tableResultSettingsMap": {},
     "title": ""
    }
   },
   "source": [
    "ref: https://genentech.github.io/scimilarity/notebooks/cell_search_tutorial_1.html\n",
    "\n",
    "<!-- Requires MLDBR_13.3LTSgpu? -->"
   ]
  },
  {
   "cell_type": "code",
   "execution_count": 0,
   "metadata": {
    "application/vnd.databricks.v1+cell": {
     "cellMetadata": {
      "byteLimit": 2048000,
      "rowLimit": 10000
     },
     "inputWidgets": {},
     "nuid": "1d335f02-6a35-4a6a-9358-d31f59cea3df",
     "showTitle": true,
     "tableResultSettingsMap": {},
     "title": "START endpoints first"
    }
   },
   "outputs": [],
   "source": [
    "import requests\n",
    "\n",
    "# Define the endpoint names | use generic names from deployment+registration\n",
    "endpoints = [\n",
    "             \"mmt_scimilarity_gene_order\",\n",
    "            #  \"mmt_scimilarity_get_embedding\",\n",
    "             \"mmt_scimilarity_get_embedding_v2test\", #updated signature\n",
    "             \"mmt_scimilarity_search_nearest\"\n",
    "            ]\n",
    "\n",
    "# Define the Databricks instance and token\n",
    "databricks_instance = \"adb-830292400663869.9.azuredatabricks.net\"\n",
    "DATABRICKS_TOKEN = dbutils.secrets.get(\"mmt\", \"databricks_token\") ## update to user's SP/PAT \n",
    "\n",
    "# Function to start an endpoint\n",
    "def start_endpoint(databricks_instance, endpoint_name, token):\n",
    "    url = f\"https://{databricks_instance}/api/2.0/serving-endpoints/{endpoint_name}/config:start\"\n",
    "    headers = {\n",
    "        \"Authorization\": f\"Bearer {token}\",\n",
    "        \"Content-Type\": \"application/json\"\n",
    "    }\n",
    "    response = requests.post(url, headers=headers)\n",
    "    if response.status_code == 200:\n",
    "        print(f\"Successfully started endpoint: {endpoint_name}\")\n",
    "    else:\n",
    "        print(f\"Failed to start endpoint: {endpoint_name}, Status Code: {response.status_code}, Response: {response.text}\")\n",
    "\n",
    "\n",
    "# Function to stop an endpoint\n",
    "def stop_endpoint(databricks_instance, endpoint_name, token):\n",
    "    url = f\"https://{databricks_instance}/api/2.0/serving-endpoints/{endpoint_name}/config:stop\"\n",
    "    headers = {\n",
    "        \"Authorization\": f\"Bearer {token}\",\n",
    "        \"Content-Type\": \"application/json\"\n",
    "    }\n",
    "    response = requests.post(url, headers=headers)\n",
    "    if response.status_code == 200:\n",
    "        print(f\"Successfully stopped endpoint: {endpoint_name}\")\n",
    "    else:\n",
    "        print(f\"Failed to stop endpoint: {endpoint_name}, Status Code: {response.status_code}, Response: {response.text}\")\n",
    "\n",
    "\n",
    "# Function to check the status of an endpoint\n",
    "def check_endpoint_status(databricks_instance, endpoint_name, token):\n",
    "    url = f\"https://{databricks_instance}/api/2.0/serving-endpoints/{endpoint_name}\"\n",
    "    headers = {\n",
    "        \"Authorization\": f\"Bearer {token}\",\n",
    "        \"Content-Type\": \"application/json\"\n",
    "    }\n",
    "    response = requests.get(url, headers=headers)\n",
    "    if response.status_code == 200:\n",
    "        status = response.json().get(\"state\", {}).get(\"ready\", \"Unknown\")\n",
    "        print(f\"Endpoint: {endpoint_name}, Status: {status}\")\n",
    "        return status\n",
    "    else:\n",
    "        print(f\"Failed to check status of endpoint: {endpoint_name}, Status Code: {response.status_code}, Response: {response.text}\")\n",
    "        return \"Unknown\"\n",
    "    \n",
    "\n",
    "## Example USAGE\n",
    "# Loop through the endpoints and start/stop them OR check their status\n",
    "# for endpoint in endpoints:\n",
    "#     start_endpoint(databricks_instance, endpoint, DATABRICKS_TOKEN)\n",
    "    # stop_endpoint(databricks_instance, endpoint, DATABRICKS_TOKEN)\n",
    "    # check_endpoint_status(databricks_instance, endpoint, DATABRICKS_TOKEN)"
   ]
  },
  {
   "cell_type": "code",
   "execution_count": 0,
   "metadata": {
    "application/vnd.databricks.v1+cell": {
     "cellMetadata": {
      "byteLimit": 2048000,
      "rowLimit": 10000
     },
     "inputWidgets": {},
     "nuid": "f0cebc84-b275-4d06-884e-2746f5444674",
     "showTitle": true,
     "tableResultSettingsMap": {},
     "title": "START endpoints"
    }
   },
   "outputs": [],
   "source": [
    "for endpoint in endpoints:\n",
    "    # start_endpoint(databricks_instance, endpoint, DATABRICKS_TOKEN)\n",
    "    stop_endpoint(databricks_instance, endpoint, DATABRICKS_TOKEN)"
   ]
  },
  {
   "cell_type": "code",
   "execution_count": 0,
   "metadata": {
    "application/vnd.databricks.v1+cell": {
     "cellMetadata": {
      "byteLimit": 2048000,
      "rowLimit": 10000
     },
     "inputWidgets": {},
     "nuid": "13b7b52e-0cd1-4ceb-b6c2-8f88b2bca324",
     "showTitle": true,
     "tableResultSettingsMap": {},
     "title": "wait_until_endpoints_ready"
    }
   },
   "outputs": [],
   "source": [
    "# ~15--20++mins sometimes >>+++++\n",
    "\n",
    "## need to ping the scaled-to-zero endpoints instead \n",
    "\n",
    "import time\n",
    "\n",
    "# Function to wait until all endpoints are ready\n",
    "def wait_until_endpoints_ready(databricks_instance, endpoints, token, check_interval=60):\n",
    "    all_ready = False\n",
    "    while not all_ready:\n",
    "        all_ready = True\n",
    "        for endpoint in endpoints:\n",
    "            status = check_endpoint_status(databricks_instance, endpoint, token)\n",
    "            if status != \"READY\":\n",
    "                all_ready = False\n",
    "                print(f\"Endpoint {endpoint} is not ready yet. Checking again in {check_interval} seconds...\")\n",
    "                break\n",
    "        if not all_ready:\n",
    "            time.sleep(check_interval)\n",
    "    print(\"All endpoints are ready!\")\n",
    "\n",
    "### \n",
    "wait_until_endpoints_ready(databricks_instance, endpoints, DATABRICKS_TOKEN, check_interval=60)"
   ]
  },
  {
   "cell_type": "markdown",
   "metadata": {
    "application/vnd.databricks.v1+cell": {
     "cellMetadata": {
      "byteLimit": 2048000,
      "rowLimit": 10000
     },
     "inputWidgets": {},
     "nuid": "b781890e-63c4-4d7e-863d-bb61753e2a13",
     "showTitle": false,
     "tableResultSettingsMap": {},
     "title": ""
    }
   },
   "source": [
    "MOVE To separate nb ^^"
   ]
  },
  {
   "cell_type": "code",
   "execution_count": 0,
   "metadata": {
    "application/vnd.databricks.v1+cell": {
     "cellMetadata": {
      "byteLimit": 2048000,
      "rowLimit": 10000
     },
     "inputWidgets": {},
     "nuid": "812dad1b-a2d2-41db-8d9e-78f17803866d",
     "showTitle": false,
     "tableResultSettingsMap": {},
     "title": ""
    }
   },
   "outputs": [],
   "source": [
    "# !cat /Volumes/genesis_workbench/dev_mmt_core_test/scimilarity/mlflow_requirements/SCimilarity_Search_Nearest/requirements.txt"
   ]
  },
  {
   "cell_type": "code",
   "execution_count": 0,
   "metadata": {
    "application/vnd.databricks.v1+cell": {
     "cellMetadata": {
      "byteLimit": 2048000,
      "rowLimit": 10000
     },
     "inputWidgets": {},
     "nuid": "2ff60fb3-d31c-4da6-82d3-f380cebda0d2",
     "showTitle": true,
     "tableResultSettingsMap": {},
     "title": "Define necessary imports and install required packages"
    }
   },
   "outputs": [],
   "source": [
    "## used the saved requirements \n",
    "# /Volumes/genesis_workbench/dev_mmt_core_test/scimilarity/mlflow_requirements/SCimilarity_Get_Embedding/requirements.txt\n",
    "# /Volumes/genesis_workbench/dev_mmt_core_test/scimilarity/mlflow_requirements/SCimilarity_Search_Nearest/requirements.txt\n",
    "\n",
    "requirements = [\n",
    "    \"scimilarity==0.4.0\",\n",
    "    \"typing_extensions>=4.14.0\",\n",
    "    \"scanpy==1.11.2\", #\n",
    "    \"numcodecs==0.13.1\", #\n",
    "    \"numpy==1.26.4\",\n",
    "    \"pandas==1.5.3\",\n",
    "    \"mlflow==2.22.0\",\n",
    "    \"cloudpickle==2.0.0\", #\n",
    "    \"tbb>=2021.6.0\",    \n",
    "    # \"uv\"\n",
    "]\n",
    "\n",
    "for package in requirements:\n",
    "    %pip install {package} --upgrade -v\n",
    "\n",
    "dbutils.library.restartPython()"
   ]
  },
  {
   "cell_type": "code",
   "execution_count": 0,
   "metadata": {
    "application/vnd.databricks.v1+cell": {
     "cellMetadata": {
      "byteLimit": 2048000,
      "rowLimit": 10000
     },
     "inputWidgets": {},
     "nuid": "8f6c5ca9-8a59-4eec-aec0-a4acbae03cda",
     "showTitle": true,
     "tableResultSettingsMap": {},
     "title": "threading config"
    }
   },
   "outputs": [],
   "source": [
    "# Import numba after installing the required packages\n",
    "import numba\n",
    "\n",
    "# Set this at the beginning of your notebook/script\n",
    "numba.config.THREADING_LAYER = 'workqueue'  # Most compatible option\n",
    "# Other options: 'omp' (OpenMP) or 'tbb' (default)"
   ]
  },
  {
   "cell_type": "code",
   "execution_count": 0,
   "metadata": {
    "application/vnd.databricks.v1+cell": {
     "cellMetadata": {
      "byteLimit": 2048000,
      "rowLimit": 10000
     },
     "inputWidgets": {},
     "nuid": "886f40ef-0d29-4209-9dac-d9120334e682",
     "showTitle": true,
     "tableResultSettingsMap": {},
     "title": "widget variables"
    }
   },
   "outputs": [],
   "source": [
    "## for nb devs -- these get overwritten wrt deployment args\n",
    "dbutils.widgets.text(\"catalog\", \"genesis_workbench\", \"Catalog\")\n",
    "dbutils.widgets.text(\"schema\", \"dev_mmt_core_test\", \"Schema\") \n",
    "\n",
    "dbutils.widgets.text(\"model_name\", \"SCimilarity\", \"Model Name\") ## use this as a prefix for the model name ?\n",
    "\n",
    "dbutils.widgets.text(\"cache_dir\", \"scimilarity\", \"Cache dir\") ## VOLUME NAME | MODEL_FAMILY \n",
    "\n",
    "CATALOG = dbutils.widgets.get(\"catalog\")\n",
    "SCHEMA = dbutils.widgets.get(\"schema\")\n",
    "\n",
    "MODEL_NAME = dbutils.widgets.get(\"model_name\")\n",
    "\n",
    "CACHE_DIR = dbutils.widgets.get(\"cache_dir\")\n",
    "\n",
    "print(f\"Cache dir: {CACHE_DIR}\")\n",
    "cache_full_path = f\"/Volumes/{CATALOG}/{SCHEMA}/{CACHE_DIR}\"\n",
    "print(f\"Cache full path: {cache_full_path}\")"
   ]
  },
  {
   "cell_type": "code",
   "execution_count": 0,
   "metadata": {
    "application/vnd.databricks.v1+cell": {
     "cellMetadata": {
      "byteLimit": 2048000,
      "rowLimit": 10000
     },
     "inputWidgets": {},
     "nuid": "d60d5f53-9831-43ba-aff2-9a25eedade25",
     "showTitle": true,
     "tableResultSettingsMap": {},
     "title": "UC paths"
    }
   },
   "outputs": [],
   "source": [
    "CATALOG = CATALOG #\"mmt\"\n",
    "DB_SCHEMA = SCHEMA #\"tests\" | \"genesiswb\"\n",
    "\n",
    "# VOLUME_NAME | PROJECT \n",
    "MODEL_FAMILY = CACHE_DIR ## CACHE_DIR #\"scimilarity\"\n",
    "\n",
    "# MODEL_NAME #\"SCimilarity\" \n",
    "\n",
    "print(\"CATALOG :\", CATALOG)\n",
    "print(\"DB_SCHEMA :\", DB_SCHEMA)\n",
    "print(\"MODEL_FAMILY :\", MODEL_FAMILY)"
   ]
  },
  {
   "cell_type": "code",
   "execution_count": 0,
   "metadata": {
    "application/vnd.databricks.v1+cell": {
     "cellMetadata": {
      "byteLimit": 2048000,
      "rowLimit": 10000
     },
     "inputWidgets": {},
     "nuid": "effbe09c-7eac-4f54-abf9-ea342f6f928e",
     "showTitle": true,
     "tableResultSettingsMap": {},
     "title": "import dependencies"
    }
   },
   "outputs": [],
   "source": [
    "# from scimilarity import CellQuery, CellEmbedding ## these are the functions we wrapped in MLflow PyFunc\n",
    "from scimilarity import align_dataset, lognorm_counts\n",
    "\n",
    "import scanpy as sc\n",
    "from scipy import sparse\n",
    "\n",
    "import numpy as np\n",
    "import pandas as pd\n",
    "import json\n",
    "import requests\n",
    "\n",
    "import os\n",
    "\n",
    "from collections.abc import MutableMapping  # "
   ]
  },
  {
   "cell_type": "code",
   "execution_count": 0,
   "metadata": {
    "application/vnd.databricks.v1+cell": {
     "cellMetadata": {
      "byteLimit": 2048000,
      "rowLimit": 10000
     },
     "inputWidgets": {},
     "nuid": "ac9d8751-3c22-4b5e-b71d-eecdbe4e82ca",
     "showTitle": true,
     "tableResultSettingsMap": {},
     "title": "specific to scimilarity"
    }
   },
   "outputs": [],
   "source": [
    "# import scanpy as sc\n",
    "from matplotlib import pyplot as plt\n",
    "\n",
    "sc.set_figure_params(dpi=100)\n",
    "plt.rcParams[\"figure.figsize\"] = [6, 4]\n",
    "\n",
    "import warnings\n",
    "\n",
    "warnings.filterwarnings(\"ignore\")"
   ]
  },
  {
   "cell_type": "code",
   "execution_count": 0,
   "metadata": {
    "application/vnd.databricks.v1+cell": {
     "cellMetadata": {
      "byteLimit": 2048000,
      "rowLimit": 10000
     },
     "inputWidgets": {},
     "nuid": "877e86c9-12d4-4849-9308-a3c29da8a955",
     "showTitle": true,
     "tableResultSettingsMap": {},
     "title": "Define Endpoint API Inferencing Functions"
    }
   },
   "outputs": [],
   "source": [
    "def create_serving_json(data, params=None):\n",
    "    # Function to create Serving JSON format\n",
    "    return {\"instances\": data} if params is None else {\"instances\": data, \"params\": params}\n",
    "\n",
    "\n",
    "def api_inference(databricks_instance, endpoint_name, data_input, params=None):\n",
    "    url = f'https://{databricks_instance}/serving-endpoints/{endpoint_name}/invocations'\n",
    "    headers = {\n",
    "        'Authorization': f'Bearer {os.environ.get(\"DATABRICKS_TOKEN\")}',\n",
    "        'Content-Type': 'application/json'\n",
    "    }\n",
    "    \n",
    "    if isinstance(data_input, pd.DataFrame):\n",
    "        ds_dict = {'dataframe_split': data_input.to_dict(orient='split')}\n",
    "        if params:\n",
    "            ds_dict['params'] = params\n",
    "    else:\n",
    "        ds_dict = create_serving_json(data_input, params)\n",
    "    \n",
    "    data_json = json.dumps(ds_dict, allow_nan=True)\n",
    "    response = requests.post(url, headers=headers, data=data_json)\n",
    "    \n",
    "    if response.status_code == 200:\n",
    "        try:\n",
    "            return response.json()\n",
    "        except json.JSONDecodeError:\n",
    "            return {\"error\": \"Invalid JSON response\", \"response_text\": response.text}\n",
    "    else:\n",
    "        return {\"error\": f\"HTTP {response.status_code}\", \"response_text\": response.text}"
   ]
  },
  {
   "cell_type": "code",
   "execution_count": 0,
   "metadata": {
    "application/vnd.databricks.v1+cell": {
     "cellMetadata": {
      "byteLimit": 2048000,
      "rowLimit": 10000
     },
     "inputWidgets": {},
     "nuid": "32c14453-c0f6-49b6-a066-463c458932fe",
     "showTitle": true,
     "tableResultSettingsMap": {},
     "title": "Define Scimilarity Inference Calling Functions"
    }
   },
   "outputs": [],
   "source": [
    "# def derive_gene_order(endpoint_name = \"mmt_scimilarity_gene_order\") -> list[str]:  \n",
    "def derive_gene_order(databricks_instance, endpoint_name) -> list[str]:  \n",
    "    example_input = pd.DataFrame({\"input\": [\"get_gene_order\"]})\n",
    "    get_gene_order = api_inference(databricks_instance, endpoint_name, data_input=example_input)\n",
    "    return get_gene_order['predictions']\n",
    "\n",
    "# gene_order = derive_gene_order()\n",
    "\n",
    "## updated version \n",
    "def derive_embedding(databricks_instance, endpoint_name, data_input) -> pd.DataFrame():  \n",
    "    ## data_input: X_vals\n",
    "\n",
    "    celltype_sample_obs_json = data_input.obs.to_json(orient='split')\n",
    "    X_vals_dense = data_input.X.toarray().tolist()\n",
    "    celltype_subsample_pdf = pd.DataFrame([{'celltype_subsample': row} for row in X_vals_dense ], \n",
    "                                        index=data_input.obs.index\n",
    "                                        )\n",
    "\n",
    "    example_input = pd.DataFrame([{\n",
    "                                    \"celltype_sample\": celltype_subsample_pdf.to_json(orient='split'), \n",
    "                                    \"celltype_sample_obs\": data_input.obs.to_json(orient='split')\n",
    "                                }])\n",
    "    \n",
    "    get_embeddings = api_inference(databricks_instance, endpoint_name, data_input=example_input)\n",
    "    return get_embeddings #['predictions'][0]['embedding']#[0]\n",
    "\n",
    "# cell_embedding = derive_embedding(endpoint_name = \"mmt_scimilarity_get_embedding\", data_input = X_vals)\n",
    "\n",
    "\n",
    "def search_nearest(databricks_instance, endpoint_name, embedding, params = {'k': 10}) -> dict:\n",
    "    example_input = pd.DataFrame({\"embedding\": embedding})\n",
    "    return api_inference(databricks_instance, endpoint_name, data_input=example_input, params = params)\n",
    "\n",
    "## knn_output = search_nearest(databricks_instance, endpoint_name, embedding, params = {'k': 10})"
   ]
  },
  {
   "cell_type": "code",
   "execution_count": 0,
   "metadata": {
    "application/vnd.databricks.v1+cell": {
     "cellMetadata": {
      "byteLimit": 2048000,
      "rowLimit": 10000
     },
     "inputWidgets": {},
     "nuid": "12baf8f7-e1d5-4008-bd90-19a24451132e",
     "showTitle": true,
     "tableResultSettingsMap": {},
     "title": "\"configs\""
    }
   },
   "outputs": [],
   "source": [
    "import os \n",
    "DATABRICKS_TOKEN = dbutils.secrets.get(\"mmt\",\"databricks_token\") ## to update with APP SP/PAT token?\n",
    "os.environ[\"DATABRICKS_TOKEN\"] = DATABRICKS_TOKEN\n",
    "\n",
    "databricks_instance = \"adb-830292400663869.9.azuredatabricks.net\"\n",
    "\n",
    "## testing endpoints -- to replace with gwb-app ones... \n",
    "gene_order_endpoint = \"mmt_scimilarity_gene_order\"\n",
    "# get_embedding_endpoint = \"mmt_scimilarity_get_embedding\" \n",
    "get_embedding_endpoint = \"mmt_scimilarity_get_embedding_v2test\" \n",
    "search_nearest_endpoint = \"mmt_scimilarity_search_nearest\""
   ]
  },
  {
   "cell_type": "code",
   "execution_count": 0,
   "metadata": {
    "application/vnd.databricks.v1+cell": {
     "cellMetadata": {
      "byteLimit": 2048000,
      "rowLimit": 10000
     },
     "inputWidgets": {},
     "nuid": "3f1cd8f6-d209-4ddc-a4b8-25b0465c0cad",
     "showTitle": false,
     "tableResultSettingsMap": {},
     "title": ""
    }
   },
   "outputs": [],
   "source": [
    "from scimilarity import CellQuery\n",
    "model_path = '/Volumes/genesis_workbench/dev_mmt_core_test/scimilarity/model/model_v1.1/' #\"/models/model_v1.1\"\n",
    "cq = CellQuery(model_path)"
   ]
  },
  {
   "cell_type": "markdown",
   "metadata": {
    "application/vnd.databricks.v1+cell": {
     "cellMetadata": {
      "byteLimit": 2048000,
      "rowLimit": 10000
     },
     "inputWidgets": {},
     "nuid": "a1a3e3fe-57fd-43b9-900e-928bea3c9a9c",
     "showTitle": false,
     "tableResultSettingsMap": {},
     "title": ""
    }
   },
   "source": [
    "#### DATA related\n"
   ]
  },
  {
   "cell_type": "code",
   "execution_count": 0,
   "metadata": {
    "application/vnd.databricks.v1+cell": {
     "cellMetadata": {
      "byteLimit": 2048000,
      "rowLimit": 10000
     },
     "inputWidgets": {},
     "nuid": "e76a21fb-794f-411a-95c0-ba75f1db487d",
     "showTitle": true,
     "tableResultSettingsMap": {},
     "title": "using cell_query embeddings instead of endpoint"
    }
   },
   "outputs": [],
   "source": [
    "sampledata_path = f\"/Volumes/{CATALOG}/{DB_SCHEMA}/{MODEL_FAMILY}/data/adams_etal_2020/GSE136831_subsample.h5ad\"\n",
    "\n",
    "adams0 = sc.read(sampledata_path)\n",
    "adams0 = align_dataset(adams0, cq.gene_order)\n",
    "adams = lognorm_counts(adams0)\n",
    "\n",
    "adams0.obsm[\"X_scimilarity\"] = cq.get_embeddings(adams0.X)\n",
    "\n",
    "sc.pp.neighbors(adams0, use_rep=\"X_scimilarity\")\n",
    "sc.tl.umap(adams0)"
   ]
  },
  {
   "cell_type": "code",
   "execution_count": 0,
   "metadata": {
    "application/vnd.databricks.v1+cell": {
     "cellMetadata": {
      "byteLimit": 2048000,
      "rowLimit": 10000
     },
     "inputWidgets": {},
     "nuid": "35fd88f1-0075-42be-9012-ad965c5d4e0e",
     "showTitle": false,
     "tableResultSettingsMap": {},
     "title": ""
    }
   },
   "outputs": [],
   "source": [
    "sc.pl.umap(adams, color=\"celltype_raw\", legend_fontsize=8)"
   ]
  },
  {
   "cell_type": "code",
   "execution_count": 0,
   "metadata": {
    "application/vnd.databricks.v1+cell": {
     "cellMetadata": {
      "byteLimit": 2048000,
      "rowLimit": 10000
     },
     "inputWidgets": {},
     "nuid": "1295e181-7769-4e57-8879-53b457fd6fd6",
     "showTitle": true,
     "tableResultSettingsMap": {},
     "title": "read adams and align cell data"
    }
   },
   "outputs": [],
   "source": [
    "sampledata_path = f\"/Volumes/{CATALOG}/{DB_SCHEMA}/{MODEL_FAMILY}/data/adams_etal_2020/GSE136831_subsample.h5ad\"\n",
    "\n",
    "## READ sample czi dataset H5AD file + align + lognorm \n",
    "adams = sc.read(sampledata_path)\n",
    "\n",
    "# gene_order = derive_gene_order(databricks_instance, endpoint_name = \"mmt_scimilarity_gene_order\")\n",
    "gene_order = derive_gene_order(databricks_instance, endpoint_name = gene_order_endpoint)\n",
    "aligned = align_dataset(adams, gene_order) #\n",
    "\n",
    "lognorm = lognorm_counts(aligned)"
   ]
  },
  {
   "cell_type": "code",
   "execution_count": 0,
   "metadata": {
    "application/vnd.databricks.v1+cell": {
     "cellMetadata": {
      "byteLimit": 2048000,
      "rowLimit": 10000
     },
     "inputWidgets": {},
     "nuid": "0a637bbe-3a3b-42bd-95fe-b36695f94636",
     "showTitle": true,
     "tableResultSettingsMap": {},
     "title": "process  sampledata"
    }
   },
   "outputs": [],
   "source": [
    "#### Filter samle data to \"Disease\" | celltype: \"myofibroblast cell\" | sample_ref: \"DS000011735-GSM4058950\"  \n",
    "\n",
    "disease_name = \"IPF\"\n",
    "celltype_name = \"myofibroblast cell\" \n",
    "sample_refid = \"DS000011735-GSM4058950\"\n",
    "subsample_refid = \"123942\"\n",
    "\n",
    "diseasetype_ipf = lognorm[lognorm.obs[\"Disease\"] == disease_name].copy()\n",
    "\n",
    "celltype_myofib = diseasetype_ipf[\n",
    "                                  diseasetype_ipf.obs[\"celltype_name\"] == celltype_name\n",
    "                                 ].copy()\n",
    "\n",
    "## Extract list for sample_ref\n",
    "celltype_sample = celltype_myofib[\n",
    "                                  celltype_myofib.obs[\"sample\"] == sample_refid \n",
    "                                 ].copy()\n",
    "\n",
    "## extract specific index in celltype_sample \n",
    "celltype_subsample = celltype_sample[celltype_sample.obs.index == subsample_refid]\n",
    "\n",
    "## extract specific index in subsample | test batch inference? \n",
    "# query_cell = celltype_subsample[subsample.obs.index == \"123942\"]\n",
    "# query_cell = celltype_subsample[subsample.obs.index == \"124332\"]\n",
    "# query_cell = celltype_subsample[subsample.obs.index == \"126138\"]\n",
    "\n",
    "\n",
    "query_cell = celltype_sample \n",
    "# query_cell = celltype_subsample\n",
    "\n",
    "## extract subsample query (1d array or list)\n",
    "# X_vals: sparse.csr_matrix = query_cell.X\n",
    "# print(X_vals)\n",
    "\n",
    "# X_vals_dense = X_vals.toarray()\n",
    "# print(X_vals_dense)"
   ]
  },
  {
   "cell_type": "code",
   "execution_count": 0,
   "metadata": {
    "application/vnd.databricks.v1+cell": {
     "cellMetadata": {
      "byteLimit": 2048000,
      "rowLimit": 10000
     },
     "inputWidgets": {},
     "nuid": "c460eba7-7ce7-48f3-b489-8a1c225af83c",
     "showTitle": false,
     "tableResultSettingsMap": {},
     "title": ""
    }
   },
   "outputs": [],
   "source": [
    "query_cell.obs"
   ]
  },
  {
   "cell_type": "code",
   "execution_count": 0,
   "metadata": {
    "application/vnd.databricks.v1+cell": {
     "cellMetadata": {
      "byteLimit": 2048000,
      "rowLimit": 10000
     },
     "collapsed": true,
     "inputWidgets": {},
     "nuid": "961b7a2b-3ec0-4dca-970a-cd7b0ad0d53c",
     "showTitle": true,
     "tableResultSettingsMap": {},
     "title": "test input structure"
    }
   },
   "outputs": [],
   "source": [
    "# # celltype_subsample_pdf = pd.DataFrame([{'celltype_subsample': row} for row in X_vals_dense ], \n",
    "# #                                       index=celltype_sample.obs.index\n",
    "# #                                      )\n",
    "\n",
    "# celltype_sample_obs_json = query_cell.obs.to_json(orient='split')\n",
    "\n",
    "# celltype_subsample_pdf = pd.DataFrame([{'celltype_subsample': row} for row in X_vals_dense ], \n",
    "#                                       index=query_cell.obs.index\n",
    "#                                      )\n",
    "\n",
    "# # model_input = pd.DataFrame([{\n",
    "# #     \"celltype_sample\": celltype_subsample_pdf.iloc[0:1].to_json(orient='split'), \n",
    "# #     \"celltype_sample_obs\": query_cell.obs.iloc[0:1].to_json(orient='split')\n",
    "# # }])\n",
    "\n",
    "# model_input = pd.DataFrame([{\n",
    "#     \"celltype_sample\": celltype_subsample_pdf.to_json(orient='split'), \n",
    "#     \"celltype_sample_obs\": query_cell.obs.to_json(orient='split')\n",
    "# }])\n",
    "\n",
    "# model_input"
   ]
  },
  {
   "cell_type": "code",
   "execution_count": 0,
   "metadata": {
    "application/vnd.databricks.v1+cell": {
     "cellMetadata": {},
     "inputWidgets": {},
     "nuid": "067ec786-e65a-4772-8221-3a26660670a7",
     "showTitle": false,
     "tableResultSettingsMap": {},
     "title": ""
    }
   },
   "outputs": [],
   "source": [
    "## ADD VIZ"
   ]
  },
  {
   "cell_type": "code",
   "execution_count": 0,
   "metadata": {
    "application/vnd.databricks.v1+cell": {
     "cellMetadata": {
      "byteLimit": 2048000,
      "rowLimit": 10000
     },
     "inputWidgets": {},
     "nuid": "029ec7a7-6bb4-4e4d-a7c7-6feb9225ef1d",
     "showTitle": false,
     "tableResultSettingsMap": {},
     "title": ""
    }
   },
   "outputs": [],
   "source": [
    "marker_list = {\n",
    "    \"Fibroblast\": [\"COL1A1\", \"COL3A1\", \"DCN\", \"FBLN1\", \"FN1\", \"LUM\", \"THY1\"],\n",
    "    \"Myofibroblast\": [\"CDH11\", \"COMP\", \"CTHRC1\", \"ELN\", \"POSTN\", \"TNC\"],\n",
    "    \"Smooth Muscle\": [\"ACTA2\", \"ACTG2\", \"DES\", \"MYH11\", \"MYL9\", \"TAGLN\"],\n",
    "}"
   ]
  },
  {
   "cell_type": "code",
   "execution_count": 0,
   "metadata": {
    "application/vnd.databricks.v1+cell": {
     "cellMetadata": {
      "byteLimit": 2048000,
      "rowLimit": 10000
     },
     "inputWidgets": {},
     "nuid": "359e0ca7-1faa-43cf-90ac-1ca2ee51cb89",
     "showTitle": false,
     "tableResultSettingsMap": {},
     "title": ""
    }
   },
   "outputs": [],
   "source": [
    "celltype_subsample.obs[\"cell_id\"] = celltype_subsample.obs.index\n",
    "\n",
    "fig, axes = plt.subplots(1, 1, figsize=(12, 4))\n",
    "sc.pl.dotplot(\n",
    "    celltype_subsample,\n",
    "    var_names=marker_list,\n",
    "    groupby=\"cell_id\",\n",
    "    var_group_rotation=0,\n",
    "    ax=axes,\n",
    "    show=False,\n",
    ");"
   ]
  },
  {
   "cell_type": "code",
   "execution_count": 0,
   "metadata": {
    "application/vnd.databricks.v1+cell": {
     "cellMetadata": {
      "byteLimit": 2048000,
      "rowLimit": 10000
     },
     "inputWidgets": {},
     "nuid": "32acc9a5-4846-4203-8960-b7bf648c7040",
     "showTitle": false,
     "tableResultSettingsMap": {},
     "title": ""
    }
   },
   "outputs": [],
   "source": [
    "celltype_sample.obs[\"cell_id\"] = celltype_sample.obs.index\n",
    "\n",
    "fig, axes = plt.subplots(1, 1, figsize=(12, 4))\n",
    "sc.pl.dotplot(\n",
    "    celltype_sample,\n",
    "    var_names=marker_list,\n",
    "    groupby=\"cell_id\",\n",
    "    var_group_rotation=0,\n",
    "    ax=axes,\n",
    "    show=False,\n",
    ");"
   ]
  },
  {
   "cell_type": "code",
   "execution_count": 0,
   "metadata": {
    "application/vnd.databricks.v1+cell": {
     "cellMetadata": {
      "byteLimit": 2048000,
      "rowLimit": 10000
     },
     "inputWidgets": {},
     "nuid": "5848049e-3a30-48f1-9711-02903caa1fe1",
     "showTitle": false,
     "tableResultSettingsMap": {},
     "title": ""
    }
   },
   "outputs": [],
   "source": [
    "used_in_query = adams.obs.index == \"123942\"\n",
    "adams.obs[\"used_in_query\"] = used_in_query.astype(int)\n",
    "f = sc.pl.umap(adams, color=[\"used_in_query\"], cmap=\"YlOrRd\", return_fig=True)\n",
    "f.axes[0].arrow(6.1, 10.5, 1, -1, head_width=0.5, head_length=0.5)"
   ]
  },
  {
   "cell_type": "code",
   "execution_count": 0,
   "metadata": {
    "application/vnd.databricks.v1+cell": {
     "cellMetadata": {
      "byteLimit": 2048000,
      "rowLimit": 10000
     },
     "inputWidgets": {},
     "nuid": "24b2d957-9c4f-4052-bf84-c9ef7c19deb0",
     "showTitle": true,
     "tableResultSettingsMap": {},
     "title": "derive_embedding"
    }
   },
   "outputs": [],
   "source": [
    "cell_embedding = derive_embedding(databricks_instance, endpoint_name = get_embedding_endpoint, data_input = query_cell)\n",
    "cell_embedding"
   ]
  },
  {
   "cell_type": "code",
   "execution_count": 0,
   "metadata": {
    "application/vnd.databricks.v1+cell": {
     "cellMetadata": {
      "byteLimit": 2048000,
      "rowLimit": 10000
     },
     "inputWidgets": {},
     "nuid": "1a4d1a01-7f7e-4daf-9bff-f9c40e7dd5a6",
     "showTitle": false,
     "tableResultSettingsMap": {},
     "title": ""
    }
   },
   "outputs": [],
   "source": [
    "cell_embedding_pdf = pd.DataFrame(cell_embedding['predictions'])\n",
    "cell_embedding_pdf"
   ]
  },
  {
   "cell_type": "code",
   "execution_count": 0,
   "metadata": {
    "application/vnd.databricks.v1+cell": {
     "cellMetadata": {},
     "inputWidgets": {},
     "nuid": "9d5b1bea-3491-4948-8688-9e198e15f340",
     "showTitle": false,
     "tableResultSettingsMap": {},
     "title": ""
    }
   },
   "outputs": [],
   "source": [
    "## ADD VIZ"
   ]
  },
  {
   "cell_type": "code",
   "execution_count": 0,
   "metadata": {
    "application/vnd.databricks.v1+cell": {
     "cellMetadata": {
      "byteLimit": 2048000,
      "rowLimit": 10000
     },
     "inputWidgets": {},
     "nuid": "2cd0735c-4cf7-4143-9783-d35df7a90495",
     "showTitle": false,
     "tableResultSettingsMap": {},
     "title": ""
    }
   },
   "outputs": [],
   "source": [
    "# cell_embedding_pdf.loc[cell_embedding_pdf.celltype_sample_index == '123942'].embedding"
   ]
  },
  {
   "cell_type": "code",
   "execution_count": 0,
   "metadata": {
    "application/vnd.databricks.v1+cell": {
     "cellMetadata": {
      "byteLimit": 2048000,
      "rowLimit": 10000
     },
     "inputWidgets": {},
     "nuid": "034670cb-22c2-4c78-b93f-ac7dba9a4723",
     "showTitle": true,
     "tableResultSettingsMap": {},
     "title": "search_nearest"
    }
   },
   "outputs": [],
   "source": [
    "knn = search_nearest(\n",
    "                             databricks_instance,\n",
    "                             # endpoint_name = \"mmt_scimilarity_search_nearest\",\n",
    "                             endpoint_name = search_nearest_endpoint,\n",
    "                             embedding=cell_embedding_pdf[cell_embedding_pdf.celltype_sample_index == '123942'].embedding.values[0],                             \n",
    "                             params={'k': 1000}\n",
    "                            )\n",
    "\n",
    "knn"
   ]
  },
  {
   "cell_type": "code",
   "execution_count": 0,
   "metadata": {
    "application/vnd.databricks.v1+cell": {
     "cellMetadata": {
      "byteLimit": 2048000,
      "rowLimit": 10000
     },
     "inputWidgets": {},
     "nuid": "a2c4753a-28e4-4df2-92df-311e884729b9",
     "showTitle": false,
     "tableResultSettingsMap": {},
     "title": ""
    }
   },
   "outputs": [],
   "source": [
    "knn[\"predictions\"][0].keys()"
   ]
  },
  {
   "cell_type": "code",
   "execution_count": 0,
   "metadata": {
    "application/vnd.databricks.v1+cell": {
     "cellMetadata": {
      "byteLimit": 2048000,
      "rowLimit": 10000
     },
     "inputWidgets": {},
     "nuid": "7586d39a-ca34-4fab-b4a4-739db2ae470b",
     "showTitle": false,
     "tableResultSettingsMap": {},
     "title": ""
    }
   },
   "outputs": [],
   "source": [
    "def calculate_disease_proportions(metadata):\n",
    "    study_proportions = metadata.disease.value_counts()\n",
    "    return 100 * study_proportions / study_proportions.sum()\n",
    "\n",
    "\n",
    "def plot_proportions(df, title=None):\n",
    "    ax = df.plot(\n",
    "        kind=\"barh\", xlabel=\"percent of cells\", title=title, grid=False, figsize=(8, 5)\n",
    "    )\n",
    "    ax.tick_params(axis=\"y\", labelsize=8)\n",
    "    ax.set_xticklabels([f\"{int(tick)}%\" for tick in ax.get_xticks()])\n",
    "    plt.tight_layout()\n"
   ]
  },
  {
   "cell_type": "code",
   "execution_count": 0,
   "metadata": {
    "application/vnd.databricks.v1+cell": {
     "cellMetadata": {
      "byteLimit": 2048000,
      "rowLimit": 10000
     },
     "inputWidgets": {},
     "nuid": "b4406fce-c170-4282-aa95-95d5864fbc1b",
     "showTitle": false,
     "tableResultSettingsMap": {},
     "title": ""
    }
   },
   "outputs": [],
   "source": [
    "pd.DataFrame(knn[\"predictions\"][0]['results_metadata'])"
   ]
  },
  {
   "cell_type": "code",
   "execution_count": 0,
   "metadata": {
    "application/vnd.databricks.v1+cell": {
     "cellMetadata": {
      "byteLimit": 2048000,
      "rowLimit": 10000
     },
     "inputWidgets": {},
     "nuid": "ae609758-dee3-4498-8989-9fe1e8b84e5c",
     "showTitle": false,
     "tableResultSettingsMap": {},
     "title": ""
    }
   },
   "outputs": [],
   "source": [
    "filtered_df = pd.DataFrame(knn[\"predictions\"][0]['results_metadata']).loc[\n",
    "    pd.DataFrame(knn[\"predictions\"][0]['results_metadata'])[\"study\"] != query_study\n",
    "]\n",
    "display(filtered_df)"
   ]
  },
  {
   "cell_type": "code",
   "execution_count": 0,
   "metadata": {
    "application/vnd.databricks.v1+cell": {
     "cellMetadata": {
      "byteLimit": 2048000,
      "rowLimit": 10000
     },
     "inputWidgets": {},
     "nuid": "12f56aa8-b8bc-432a-ae50-1f8fb9f59cff",
     "showTitle": false,
     "tableResultSettingsMap": {},
     "title": ""
    }
   },
   "outputs": [],
   "source": [
    "query_study = \"DS000011735\"\n",
    "filtered_result_metadata = pd.DataFrame(knn[\"predictions\"][0]['results_metadata']).loc[\n",
    "    pd.DataFrame(knn[\"predictions\"][0]['results_metadata'])[\"study\"] != query_study\n",
    "]\n",
    "query_disease_frequencies = calculate_disease_proportions(filtered_result_metadata)\n",
    "query_disease_frequencies = query_disease_frequencies[query_disease_frequencies > 0.1]\n",
    "plot_proportions(\n",
    "    query_disease_frequencies, title=\"disease proportions for most similar cells\"\n",
    ")"
   ]
  },
  {
   "cell_type": "code",
   "execution_count": 0,
   "metadata": {
    "application/vnd.databricks.v1+cell": {
     "cellMetadata": {
      "byteLimit": 2048000,
      "rowLimit": 10000
     },
     "inputWidgets": {},
     "nuid": "947b890a-cf46-4cf6-8264-a98a984a5f81",
     "showTitle": false,
     "tableResultSettingsMap": {},
     "title": ""
    }
   },
   "outputs": [],
   "source": [
    "query_disease_frequencies"
   ]
  },
  {
   "cell_type": "code",
   "execution_count": 0,
   "metadata": {
    "application/vnd.databricks.v1+cell": {
     "cellMetadata": {
      "byteLimit": 2048000,
      "rowLimit": 10000
     },
     "inputWidgets": {},
     "nuid": "761632e5-fd7d-49b7-8ec3-890ac5dfaea4",
     "showTitle": false,
     "tableResultSettingsMap": {},
     "title": ""
    }
   },
   "outputs": [],
   "source": [
    "ref_metadata = cq.cell_metadata"
   ]
  },
  {
   "cell_type": "code",
   "execution_count": 0,
   "metadata": {
    "application/vnd.databricks.v1+cell": {
     "cellMetadata": {
      "byteLimit": 2048000,
      "rowLimit": 10000
     },
     "inputWidgets": {},
     "nuid": "87c78dad-a30c-4648-9188-bb3ec9bffe0d",
     "showTitle": false,
     "tableResultSettingsMap": {},
     "title": ""
    }
   },
   "outputs": [],
   "source": [
    "myofib_meta = ref_metadata[ref_metadata.prediction.isin([\"myofibroblast cell\"])]\n",
    "query_disease_frequencies = calculate_disease_proportions(myofib_meta)\n",
    "plot_proportions(\n",
    "    query_disease_frequencies[:15],\n",
    "    title=\"disease proportions for reference myofibroblasts\",\n",
    ")"
   ]
  },
  {
   "cell_type": "code",
   "execution_count": 0,
   "metadata": {
    "application/vnd.databricks.v1+cell": {
     "cellMetadata": {},
     "inputWidgets": {},
     "nuid": "a763a683-c836-4f9d-8ced-3d3e959e61b9",
     "showTitle": false,
     "tableResultSettingsMap": {},
     "title": ""
    }
   },
   "outputs": [],
   "source": []
  },
  {
   "cell_type": "code",
   "execution_count": 0,
   "metadata": {
    "application/vnd.databricks.v1+cell": {
     "cellMetadata": {
      "byteLimit": 2048000,
      "rowLimit": 10000
     },
     "inputWidgets": {},
     "nuid": "a8ccc74e-fa52-493f-ab9a-0056871a72ff",
     "showTitle": true,
     "tableResultSettingsMap": {},
     "title": "STOP endpoints"
    }
   },
   "outputs": [],
   "source": [
    "# for endpoint in endpoints:\n",
    "#     # start_endpoint(databricks_instance, endpoint, DATABRICKS_TOKEN)\n",
    "#     stop_endpoint(databricks_instance, endpoint, DATABRICKS_TOKEN)\n",
    " "
   ]
  }
 ],
 "metadata": {
  "application/vnd.databricks.v1+notebook": {
   "computePreferences": {
    "hardware": {
     "accelerator": null,
     "gpuPoolId": null,
     "memory": "HIGH"
    }
   },
   "dashboards": [],
   "environmentMetadata": {
    "base_environment": "",
    "environment_version": "3"
   },
   "inputWidgetPreferences": null,
   "language": "python",
   "notebookMetadata": {
    "pythonIndentUnit": 4
   },
   "notebookName": "06_checkNuse_SCimilarityEndpoints_v0.3",
   "widgets": {
    "cache_dir": {
     "currentValue": "scimilarity",
     "nuid": "c55d2903-2f60-4c2d-a0f2-72f4c2e335a4",
     "typedWidgetInfo": {
      "autoCreated": false,
      "defaultValue": "scimilarity",
      "label": "Cache dir",
      "name": "cache_dir",
      "options": {
       "widgetDisplayType": "Text",
       "validationRegex": null
      },
      "parameterDataType": "String"
     },
     "widgetInfo": {
      "widgetType": "text",
      "defaultValue": "scimilarity",
      "label": "Cache dir",
      "name": "cache_dir",
      "options": {
       "widgetType": "text",
       "autoCreated": null,
       "validationRegex": null
      }
     }
    },
    "catalog": {
     "currentValue": "genesis_workbench",
     "nuid": "88c3fc9a-e856-4fc0-bb45-c64b008fa8f3",
     "typedWidgetInfo": {
      "autoCreated": false,
      "defaultValue": "genesis_workbench",
      "label": "Catalog",
      "name": "catalog",
      "options": {
       "widgetDisplayType": "Text",
       "validationRegex": null
      },
      "parameterDataType": "String"
     },
     "widgetInfo": {
      "widgetType": "text",
      "defaultValue": "genesis_workbench",
      "label": "Catalog",
      "name": "catalog",
      "options": {
       "widgetType": "text",
       "autoCreated": null,
       "validationRegex": null
      }
     }
    },
    "model_name": {
     "currentValue": "SCimilarity",
     "nuid": "b3ce5525-e2e2-4a07-8de1-64730648429e",
     "typedWidgetInfo": {
      "autoCreated": false,
      "defaultValue": "SCimilarity",
      "label": "Model Name",
      "name": "model_name",
      "options": {
       "widgetDisplayType": "Text",
       "validationRegex": null
      },
      "parameterDataType": "String"
     },
     "widgetInfo": {
      "widgetType": "text",
      "defaultValue": "SCimilarity",
      "label": "Model Name",
      "name": "model_name",
      "options": {
       "widgetType": "text",
       "autoCreated": null,
       "validationRegex": null
      }
     }
    },
    "schema": {
     "currentValue": "dev_mmt_core_test",
     "nuid": "70342927-3575-4e4e-ba3d-dc892e12e50c",
     "typedWidgetInfo": {
      "autoCreated": false,
      "defaultValue": "dev_mmt_core_test",
      "label": "Schema",
      "name": "schema",
      "options": {
       "widgetDisplayType": "Text",
       "validationRegex": null
      },
      "parameterDataType": "String"
     },
     "widgetInfo": {
      "widgetType": "text",
      "defaultValue": "dev_mmt_core_test",
      "label": "Schema",
      "name": "schema",
      "options": {
       "widgetType": "text",
       "autoCreated": null,
       "validationRegex": null
      }
     }
    }
   }
  },
  "language_info": {
   "name": "python"
  }
 },
 "nbformat": 4,
 "nbformat_minor": 0
}
