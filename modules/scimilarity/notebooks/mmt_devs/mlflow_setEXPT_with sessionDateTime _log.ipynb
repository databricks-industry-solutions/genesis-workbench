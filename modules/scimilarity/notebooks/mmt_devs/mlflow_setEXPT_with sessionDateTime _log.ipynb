{
 "cells": [
  {
   "cell_type": "code",
   "execution_count": 0,
   "metadata": {
    "application/vnd.databricks.v1+cell": {
     "cellMetadata": {},
     "inputWidgets": {},
     "nuid": "6046c0d8-5a08-4e12-ae12-89065d608c0e",
     "showTitle": true,
     "tableResultSettingsMap": {},
     "title": "example EXPERIMENT/RUN organization"
    }
   },
   "outputs": [],
   "source": [
    "import mlflow\n",
    "from datetime import datetime\n",
    "\n",
    "# Set consistent experiment\n",
    "mlflow.set_experiment(\"/Users/may.merkletan@databricks.com/mlflow_experiments/[dev may_merkletan] dbx_genesis_workbench_modules\")\n",
    "\n",
    "# Create a session ID to group related runs\n",
    "session_id = f\"session_{datetime.now().strftime('%Y%m%d_%H%M%S')}\"\n",
    "\n",
    "# Search_Nearest run\n",
    "with mlflow.start_run(run_name=f\"search_nearest_{session_id}\") as run:\n",
    "    mlflow.set_tag(\"component\", \"Search_Nearest\")\n",
    "    mlflow.set_tag(\"session_id\", session_id)\n",
    "    mlflow.set_tag(\"pipeline_stage\", \"1_search\")\n",
    "    # Your code here\n",
    "\n",
    "# Gene_Order run  \n",
    "with mlflow.start_run(run_name=f\"gene_order_{session_id}\") as run:\n",
    "    mlflow.set_tag(\"component\", \"Gene_Order\")\n",
    "    mlflow.set_tag(\"session_id\", session_id)\n",
    "    mlflow.set_tag(\"pipeline_stage\", \"2_order\")\n",
    "    # Your code here\n",
    "\n",
    "# Get_Embedding run\n",
    "with mlflow.start_run(run_name=f\"get_embedding_{session_id}\") as run:\n",
    "    mlflow.set_tag(\"component\", \"Get_Embedding\") \n",
    "    mlflow.set_tag(\"session_id\", session_id)\n",
    "    mlflow.set_tag(\"pipeline_stage\", \"3_embedding\")\n",
    "    # Your code here"
   ]
  }
 ],
 "metadata": {
  "application/vnd.databricks.v1+notebook": {
   "computePreferences": null,
   "dashboards": [],
   "environmentMetadata": {
    "base_environment": "",
    "environment_version": "2"
   },
   "inputWidgetPreferences": null,
   "language": "python",
   "notebookMetadata": {
    "pythonIndentUnit": 4
   },
   "notebookName": "mlflow_setEXPT_with sessionDateTime _log",
   "widgets": {}
  },
  "language_info": {
   "name": "python"
  }
 },
 "nbformat": 4,
 "nbformat_minor": 0
}
