{
 "cells": [
  {
   "cell_type": "code",
   "execution_count": 0,
   "metadata": {
    "application/vnd.databricks.v1+cell": {
     "cellMetadata": {},
     "inputWidgets": {},
     "nuid": "16f9d889-94bd-428c-80ae-d951052c64a3",
     "showTitle": false,
     "tableResultSettingsMap": {},
     "title": ""
    }
   },
   "outputs": [],
   "source": [
    "# genesis_workbench.dev_mmt_core_test"
   ]
  },
  {
   "cell_type": "code",
   "execution_count": 0,
   "metadata": {
    "application/vnd.databricks.v1+cell": {
     "cellMetadata": {
      "byteLimit": 2048000,
      "rowLimit": 10000
     },
     "inputWidgets": {},
     "nuid": "0a220dbf-a2c0-4eb4-8a09-d2cb49fb8fb4",
     "showTitle": true,
     "tableResultSettingsMap": {},
     "title": "UC catalog & schema"
    }
   },
   "outputs": [],
   "source": [
    "catalog_name = \"genesis_workbench\"\n",
    "schema_name = \"dev_mmt_core_test\""
   ]
  },
  {
   "cell_type": "code",
   "execution_count": 0,
   "metadata": {
    "application/vnd.databricks.v1+cell": {
     "cellMetadata": {
      "byteLimit": 2048000,
      "implicitDf": true,
      "rowLimit": 10000
     },
     "inputWidgets": {},
     "nuid": "cf7e97ca-0684-4f03-92dc-3c90380ae873",
     "showTitle": true,
     "tableResultSettingsMap": {},
     "title": "DROP schema cascade..."
    }
   },
   "outputs": [],
   "source": [
    "# Construct the SQL query string\n",
    "drop_schema_query = f\"\"\"\n",
    "DROP SCHEMA IF EXISTS {catalog_name}.{schema_name} CASCADE;\n",
    "\"\"\"\n",
    "\n",
    "# create_schema_query = f\"\"\"\n",
    "# CREATE SCHEMA {catalog_name}.{schema_name};\n",
    "# \"\"\"\n",
    "\n",
    "# Execute the SQL queries\n",
    "spark.sql(drop_schema_query)\n",
    "# spark.sql(create_schema_query)"
   ]
  },
  {
   "cell_type": "code",
   "execution_count": 0,
   "metadata": {
    "application/vnd.databricks.v1+cell": {
     "cellMetadata": {},
     "inputWidgets": {},
     "nuid": "1895a769-1137-488c-b084-bdc219037905",
     "showTitle": false,
     "tableResultSettingsMap": {},
     "title": ""
    }
   },
   "outputs": [],
   "source": [
    "# full_schema = f\"{catalog_name}.{schema_name}\"\n",
    "# tables_df = spark.sql(f\"SHOW TABLES IN {full_schema}\")\n",
    "# tables = tables_df.collect()"
   ]
  },
  {
   "cell_type": "code",
   "execution_count": 0,
   "metadata": {
    "application/vnd.databricks.v1+cell": {
     "cellMetadata": {
      "byteLimit": 2048000,
      "rowLimit": 10000
     },
     "inputWidgets": {},
     "nuid": "bd78eeb0-ffdb-4c16-8de9-481fd1db4751",
     "showTitle": false,
     "tableResultSettingsMap": {},
     "title": ""
    }
   },
   "outputs": [],
   "source": [
    "# display(tables)"
   ]
  },
  {
   "cell_type": "markdown",
   "metadata": {
    "application/vnd.databricks.v1+cell": {
     "cellMetadata": {},
     "inputWidgets": {},
     "nuid": "fe5ce4da-cb6c-44da-b669-4132c0b17a82",
     "showTitle": false,
     "tableResultSettingsMap": {},
     "title": ""
    }
   },
   "source": []
  },
  {
   "cell_type": "code",
   "execution_count": 0,
   "metadata": {
    "application/vnd.databricks.v1+cell": {
     "cellMetadata": {
      "byteLimit": 2048000,
      "rowLimit": 10000
     },
     "inputWidgets": {},
     "nuid": "fcb0d3c2-2a83-4c37-b7d0-75afbd0d8fca",
     "showTitle": true,
     "tableResultSettingsMap": {},
     "title": "url + token"
    }
   },
   "outputs": [],
   "source": [
    "import os\n",
    "\n",
    "# Set these environment variables\n",
    "os.environ['DATABRICKS_HOST'] = 'https://adb-830292400663869.9.azuredatabricks.net/'\n",
    "os.environ['DATABRICKS_TOKEN'] = dbutils.notebook.entry_point.getDbutils().notebook().getContext().apiToken().get()"
   ]
  },
  {
   "cell_type": "code",
   "execution_count": 0,
   "metadata": {
    "application/vnd.databricks.v1+cell": {
     "cellMetadata": {
      "byteLimit": 2048000,
      "rowLimit": 10000
     },
     "inputWidgets": {},
     "nuid": "498a68f0-fae7-40d6-9417-79a0b1d4612f",
     "showTitle": true,
     "tableResultSettingsMap": {},
     "title": "delete_serving_endpoints_with_prefix"
    }
   },
   "outputs": [],
   "source": [
    "from databricks.sdk import WorkspaceClient\n",
    "\n",
    "def delete_serving_endpoints_with_prefix(prefix):\n",
    "    w = WorkspaceClient()\n",
    "\n",
    "    # List all serving endpoints\n",
    "    response = w.serving_endpoints.list()\n",
    "    endpoints = response.endpoints  # Access the list of endpoints\n",
    "\n",
    "    # Filter endpoints with the specified prefix\n",
    "    endpoints_to_delete = [\n",
    "        ep for ep in endpoints \n",
    "        if ep.name.startswith(prefix)\n",
    "    ]\n",
    "\n",
    "    if not endpoints_to_delete:\n",
    "        print(f\"No serving endpoints found with prefix '{prefix}'\")\n",
    "        return\n",
    "\n",
    "    print(f\"Found {len(endpoints_to_delete)} serving endpoints with prefix '{prefix}':\")\n",
    "    for ep in endpoints_to_delete:\n",
    "        print(f\"- {ep.name}\")\n",
    "\n",
    "    # Confirm before proceeding\n",
    "    confirm = input(f\"Delete all serving endpoints with prefix '{prefix}'? (yes/no): \")\n",
    "    if confirm.lower() != 'yes':\n",
    "        print(\"Deletion cancelled.\")\n",
    "        return\n",
    "\n",
    "    for ep in endpoints_to_delete:\n",
    "        try:\n",
    "            w.serving_endpoints.delete(name=ep.name)\n",
    "            print(f\"✓ Deleted serving endpoint: {ep.name}\")\n",
    "        except Exception as e:\n",
    "            print(f\"✗ Error deleting {ep.name}: {str(e)}\")\n",
    "\n",
    "# Usage\n",
    "# delete_serving_endpoints_with_prefix(\"gwb_scimilarity_\")"
   ]
  },
  {
   "cell_type": "code",
   "execution_count": 0,
   "metadata": {
    "application/vnd.databricks.v1+cell": {
     "cellMetadata": {
      "byteLimit": 2048000,
      "rowLimit": 10000
     },
     "inputWidgets": {},
     "nuid": "49c6e4e3-ba02-446f-aea6-951e4483e974",
     "showTitle": true,
     "tableResultSettingsMap": {},
     "title": "delete_serving_endpoints_with_prefix"
    }
   },
   "outputs": [],
   "source": [
    "delete_serving_endpoints_with_prefix(\"gwb_scimilarity_\")"
   ]
  },
  {
   "cell_type": "markdown",
   "metadata": {
    "application/vnd.databricks.v1+cell": {
     "cellMetadata": {},
     "inputWidgets": {},
     "nuid": "34b13d52-37a2-4219-8621-185ccc9d6c30",
     "showTitle": false,
     "tableResultSettingsMap": {},
     "title": ""
    }
   },
   "source": []
  },
  {
   "cell_type": "code",
   "execution_count": 0,
   "metadata": {
    "application/vnd.databricks.v1+cell": {
     "cellMetadata": {},
     "inputWidgets": {},
     "nuid": "1b7e9931-17a0-4de3-a99e-cc4c85136eab",
     "showTitle": true,
     "tableResultSettingsMap": {},
     "title": "delete_models_by_prefix_or_suffix"
    }
   },
   "outputs": [],
   "source": [
    "import mlflow\n",
    "\n",
    "def delete_models_by_prefix_or_suffix(prefix=None, suffix=None):\n",
    "    # Search for all registered models\n",
    "    models = mlflow.search_registered_models()\n",
    "    \n",
    "    for model in models:\n",
    "        model_name = model.name\n",
    "        \n",
    "        # Check if the model name matches the prefix or suffix\n",
    "        if (prefix and model_name.startswith(prefix)) or (suffix and model_name.endswith(suffix)):\n",
    "            # Delete all versions of the model\n",
    "            for version in model.latest_versions:\n",
    "                mlflow.delete_model_version(name=model_name, version=version.version)\n",
    "            \n",
    "            # Delete the registered model\n",
    "            mlflow.delete_registered_model(name=model_name)\n",
    "\n",
    "# Example usage\n",
    "delete_models_by_prefix_or_suffix(prefix=\"gwb_scimilarity_\")"
   ]
  }
 ],
 "metadata": {
  "application/vnd.databricks.v1+notebook": {
   "computePreferences": null,
   "dashboards": [],
   "environmentMetadata": {
    "base_environment": "",
    "environment_version": "2"
   },
   "inputWidgetPreferences": null,
   "language": "python",
   "notebookMetadata": {
    "mostRecentlyExecutedCommandWithImplicitDF": {
     "commandId": -1,
     "dataframes": [
      "_sqldf"
     ]
    },
    "pythonIndentUnit": 4
   },
   "notebookName": "resetNclear_UC_Schema_Models",
   "widgets": {}
  },
  "language_info": {
   "name": "python"
  }
 },
 "nbformat": 4,
 "nbformat_minor": 0
}
