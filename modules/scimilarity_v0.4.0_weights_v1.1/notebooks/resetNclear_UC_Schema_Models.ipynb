{
 "cells": [
  {
   "cell_type": "code",
   "execution_count": 0,
   "metadata": {
    "application/vnd.databricks.v1+cell": {
     "cellMetadata": {},
     "inputWidgets": {},
     "nuid": "16f9d889-94bd-428c-80ae-d951052c64a3",
     "showTitle": false,
     "tableResultSettingsMap": {},
     "title": ""
    }
   },
   "outputs": [],
   "source": [
    "# genesis_workbench.dev_mmt_core_test\n",
    "\n",
    "# REQUIRES Classic ML Compute?"
   ]
  },
  {
   "cell_type": "code",
   "execution_count": 0,
   "metadata": {
    "application/vnd.databricks.v1+cell": {
     "cellMetadata": {
      "byteLimit": 2048000,
      "rowLimit": 10000
     },
     "inputWidgets": {},
     "nuid": "0a220dbf-a2c0-4eb4-8a09-d2cb49fb8fb4",
     "showTitle": true,
     "tableResultSettingsMap": {},
     "title": "UC catalog & schema"
    }
   },
   "outputs": [],
   "source": [
    "catalog_name = \"genesis_workbench\"\n",
    "schema_name = \"dev_mmt_core_test\""
   ]
  },
  {
   "cell_type": "code",
   "execution_count": 0,
   "metadata": {
    "application/vnd.databricks.v1+cell": {
     "cellMetadata": {
      "byteLimit": 2048000,
      "implicitDf": true,
      "rowLimit": 10000
     },
     "inputWidgets": {},
     "nuid": "cf7e97ca-0684-4f03-92dc-3c90380ae873",
     "showTitle": true,
     "tableResultSettingsMap": {},
     "title": "DROP schema cascade..."
    }
   },
   "outputs": [],
   "source": [
    "# Construct the SQL query string\n",
    "drop_schema_query = f\"\"\"\n",
    "DROP SCHEMA IF EXISTS {catalog_name}.{schema_name} CASCADE;\n",
    "\"\"\"\n",
    "\n",
    "# create_schema_query = f\"\"\"\n",
    "# CREATE SCHEMA {catalog_name}.{schema_name};\n",
    "# \"\"\"\n",
    "\n",
    "# Execute the SQL queries\n",
    "spark.sql(drop_schema_query)\n",
    "# spark.sql(create_schema_query)"
   ]
  },
  {
   "cell_type": "code",
   "execution_count": 0,
   "metadata": {
    "application/vnd.databricks.v1+cell": {
     "cellMetadata": {},
     "inputWidgets": {},
     "nuid": "1895a769-1137-488c-b084-bdc219037905",
     "showTitle": false,
     "tableResultSettingsMap": {},
     "title": ""
    }
   },
   "outputs": [],
   "source": [
    "# full_schema = f\"{catalog_name}.{schema_name}\"\n",
    "# tables_df = spark.sql(f\"SHOW TABLES IN {full_schema}\")\n",
    "# tables = tables_df.collect()"
   ]
  },
  {
   "cell_type": "code",
   "execution_count": 0,
   "metadata": {
    "application/vnd.databricks.v1+cell": {
     "cellMetadata": {
      "byteLimit": 2048000,
      "rowLimit": 10000
     },
     "inputWidgets": {},
     "nuid": "bd78eeb0-ffdb-4c16-8de9-481fd1db4751",
     "showTitle": false,
     "tableResultSettingsMap": {},
     "title": ""
    }
   },
   "outputs": [],
   "source": [
    "# display(tables)"
   ]
  },
  {
   "cell_type": "markdown",
   "metadata": {
    "application/vnd.databricks.v1+cell": {
     "cellMetadata": {},
     "inputWidgets": {},
     "nuid": "fe5ce4da-cb6c-44da-b669-4132c0b17a82",
     "showTitle": false,
     "tableResultSettingsMap": {},
     "title": ""
    }
   },
   "source": []
  },
  {
   "cell_type": "code",
   "execution_count": 0,
   "metadata": {
    "application/vnd.databricks.v1+cell": {
     "cellMetadata": {
      "byteLimit": 2048000,
      "rowLimit": 10000
     },
     "inputWidgets": {},
     "nuid": "fcb0d3c2-2a83-4c37-b7d0-75afbd0d8fca",
     "showTitle": true,
     "tableResultSettingsMap": {},
     "title": "url + token"
    }
   },
   "outputs": [],
   "source": [
    "import os\n",
    "\n",
    "# Set these environment variables\n",
    "os.environ['DATABRICKS_HOST'] = 'https://adb-830292400663869.9.azuredatabricks.net/'\n",
    "os.environ['DATABRICKS_TOKEN'] = dbutils.notebook.entry_point.getDbutils().notebook().getContext().apiToken().get() ## TO replace with Service Principal Token...\n",
    "\n",
    "host = os.environ['DATABRICKS_HOST']\n",
    "token = os.environ['DATABRICKS_TOKEN']"
   ]
  },
  {
   "cell_type": "code",
   "execution_count": 0,
   "metadata": {
    "application/vnd.databricks.v1+cell": {
     "cellMetadata": {
      "byteLimit": 2048000,
      "rowLimit": 10000
     },
     "inputWidgets": {},
     "nuid": "498a68f0-fae7-40d6-9417-79a0b1d4612f",
     "showTitle": true,
     "tableResultSettingsMap": {},
     "title": "delete_serving_endpoints_with_prefix"
    }
   },
   "outputs": [],
   "source": [
    "import mlflow\n",
    "\n",
    "def delete_models_by_prefix_or_suffix(catalog, schema, prefix=None, suffix=None):\n",
    "    # Set the registry URI to use Unity Catalog\n",
    "    mlflow.set_registry_uri(f'databricks-uc://{catalog}.{schema}')\n",
    "    \n",
    "    # Search for all registered models\n",
    "    models = mlflow.search_registered_models()\n",
    "    \n",
    "    models_to_delete = []\n",
    "    \n",
    "    for model in models:\n",
    "        model_name = model.name\n",
    "        \n",
    "        # Check if the model name matches the prefix or suffix\n",
    "        if (prefix and model_name.startswith(prefix)) or (suffix and model_name.endswith(suffix)):\n",
    "            models_to_delete.append(model)\n",
    "    \n",
    "    if not models_to_delete:\n",
    "        print(f\"No models found with prefix '{prefix}' or suffix '{suffix}' in catalog '{catalog}' and schema '{schema}'\")\n",
    "        return\n",
    "    \n",
    "    print(f\"Found {len(models_to_delete)} models with prefix '{prefix}' or suffix '{suffix}' in catalog '{catalog}' and schema '{schema}':\")\n",
    "    for model in models_to_delete:\n",
    "        print(f\"- Model: {model.name}\")\n",
    "        for version in model.latest_versions:\n",
    "            print(f\"  - Version: {version.version}\")\n",
    "    \n",
    "    # Confirm before proceeding\n",
    "    confirm = input(f\"Delete all models with prefix '{prefix}' or suffix '{suffix}' in catalog '{catalog}' and schema '{schema}'? (yes/no): \")\n",
    "    if confirm.lower() != 'yes':\n",
    "        print(\"Deletion cancelled.\")\n",
    "        return\n",
    "    \n",
    "    for model in models_to_delete:\n",
    "        model_name = model.name\n",
    "        for version in model.latest_versions:\n",
    "            mlflow.delete_model_version(name=model_name, version=version.version)\n",
    "        mlflow.delete_registered_model(name=model_name)\n",
    "        print(f\"✓ Deleted model: {model_name}\")\n",
    "\n",
    "# # Example usage\n",
    "# catalog_name = \"genesis_workbench\"\n",
    "# schema_name = \"dev_mmt_core_test\"\n",
    "# delete_models_by_prefix_or_suffix(catalog=catalog_name, schema=schema_name, prefix=\"scimilarity_\")"
   ]
  },
  {
   "cell_type": "code",
   "execution_count": 0,
   "metadata": {
    "application/vnd.databricks.v1+cell": {
     "cellMetadata": {
      "byteLimit": 2048000,
      "rowLimit": 10000
     },
     "inputWidgets": {},
     "nuid": "49c6e4e3-ba02-446f-aea6-951e4483e974",
     "showTitle": true,
     "tableResultSettingsMap": {},
     "title": "delete_serving_endpoints_with_prefix"
    }
   },
   "outputs": [],
   "source": [
    "# delete_serving_endpoints_with_prefix(\"gwb_scimilarity_\")\n",
    "delete_serving_endpoints_with_prefix(\"mmt_scimilarity\")"
   ]
  },
  {
   "cell_type": "markdown",
   "metadata": {
    "application/vnd.databricks.v1+cell": {
     "cellMetadata": {},
     "inputWidgets": {},
     "nuid": "34b13d52-37a2-4219-8621-185ccc9d6c30",
     "showTitle": false,
     "tableResultSettingsMap": {},
     "title": ""
    }
   },
   "source": []
  },
  {
   "cell_type": "code",
   "execution_count": 0,
   "metadata": {
    "application/vnd.databricks.v1+cell": {
     "cellMetadata": {
      "byteLimit": 2048000,
      "rowLimit": 10000
     },
     "inputWidgets": {},
     "nuid": "6576ce1a-14e3-43ac-8784-273efa4cce92",
     "showTitle": false,
     "tableResultSettingsMap": {},
     "title": ""
    }
   },
   "outputs": [],
   "source": [
    "import mlflow\n",
    "import os\n",
    "\n",
    "# Set MLflow to use Databricks backend\n",
    "mlflow.set_tracking_uri(\"databricks\")\n",
    "\n",
    "# For Unity Catalog models, ensure proper authentication\n",
    "mlflow.set_registry_uri(\"databricks-uc\")"
   ]
  },
  {
   "cell_type": "code",
   "execution_count": 0,
   "metadata": {
    "application/vnd.databricks.v1+cell": {
     "cellMetadata": {
      "byteLimit": 2048000,
      "rowLimit": 10000
     },
     "inputWidgets": {},
     "nuid": "d68f96ce-32da-4e9f-bb47-5b65bd7d84d9",
     "showTitle": false,
     "tableResultSettingsMap": {},
     "title": ""
    }
   },
   "outputs": [],
   "source": [
    "import mlflow\n",
    "from mlflow.tracking.client import MlflowClient\n",
    "from typing import Optional, List\n",
    "\n",
    "def delete_model_versions(CATALOG, DB_SCHEMA, model_name, delete_all=False, specific_versions:Optional[List[int]]=None):\n",
    "    \"\"\"\n",
    "    Delete all versions or specific versions of a registered model.\n",
    "\n",
    "    Parameters:\n",
    "    model_name (str): The name of the model to delete.\n",
    "    delete_all (bool): If True, delete all versions of the model. If False, delete specific versions.\n",
    "    specific_versions (list): List of specific versions to delete if delete_all is False.\n",
    "    \"\"\"\n",
    "    full_model_name = f\"{CATALOG}.{DB_SCHEMA}.{model_name}\"\n",
    "\n",
    "    # Initialize the MLflow client\n",
    "    client = MlflowClient()\n",
    "\n",
    "    # Fetch all versions of the model\n",
    "    model_version_infos = client.search_model_versions(f\"name='{full_model_name}'\")\n",
    "\n",
    "    if delete_all:\n",
    "        # Delete all versions of the model\n",
    "        for model_version_info in model_version_infos:\n",
    "            client.delete_model_version(name=full_model_name, version=model_version_info.version)\n",
    "    else:\n",
    "        if specific_versions is None:\n",
    "            raise ValueError(\"specific_versions must be provided if delete_all is False\")\n",
    "        # Delete specific versions of the model\n",
    "        for version in specific_versions:\n",
    "            client.delete_model_version(name=full_model_name, version=version)\n",
    "\n",
    "    # Delete the registered model\n",
    "    client.delete_registered_model(name=full_model_name)\n",
    "\n",
    "    print(f\"Deleted model '{full_model_name}' and all its versions.\")\n",
    "\n",
    "# Example usage\n",
    "# delete_model_versions(\"SCimilarity_GeneOrder\", delete_all=True)\n",
    "# delete_model_versions(\"SCimilarity_GeneOrder\", delete_all=False, specific_versions=[\"3\", \"4\", \"5\"])"
   ]
  },
  {
   "cell_type": "code",
   "execution_count": 0,
   "metadata": {
    "application/vnd.databricks.v1+cell": {
     "cellMetadata": {
      "byteLimit": 2048000,
      "rowLimit": 10000
     },
     "inputWidgets": {},
     "nuid": "389bfd6b-a9a8-4b25-a64e-caa7d46e25fc",
     "showTitle": false,
     "tableResultSettingsMap": {},
     "title": ""
    }
   },
   "outputs": [],
   "source": [
    "from mlflow.tracking import MlflowClient\n",
    "\n",
    "client = MlflowClient()\n",
    "\n",
    "# List all registered models\n",
    "models = client.search_registered_models()\n",
    "# for model in models:\n",
    "#     print(model.name)\n",
    "[model.name for model in models if \"mmt_\" in model.name]"
   ]
  },
  {
   "cell_type": "code",
   "execution_count": 0,
   "metadata": {
    "application/vnd.databricks.v1+cell": {
     "cellMetadata": {
      "byteLimit": 2048000,
      "rowLimit": 10000
     },
     "inputWidgets": {},
     "nuid": "4c1f854a-20ea-4157-8cb2-910951075a44",
     "showTitle": false,
     "tableResultSettingsMap": {},
     "title": ""
    }
   },
   "outputs": [],
   "source": [
    "# delete_model_versions(catalog_name, schema_name, \"scimilarity_gene_order\", delete_all=True)\n",
    "# delete_model_versions(catalog_name, schema_name, \"scimilarity_get_embedding\", delete_all=True)\n",
    "# delete_model_versions(catalog_name, schema_name, \"scimilarity_search_nearest\", delete_all=True)"
   ]
  },
  {
   "cell_type": "code",
   "execution_count": 0,
   "metadata": {
    "application/vnd.databricks.v1+cell": {
     "cellMetadata": {},
     "inputWidgets": {},
     "nuid": "98acbc3e-396a-42e6-980c-781844b6936e",
     "showTitle": false,
     "tableResultSettingsMap": {},
     "title": ""
    }
   },
   "outputs": [],
   "source": []
  }
 ],
 "metadata": {
  "application/vnd.databricks.v1+notebook": {
   "computePreferences": {
    "hardware": {
     "accelerator": null,
     "gpuPoolId": null,
     "memory": "HIGH"
    }
   },
   "dashboards": [],
   "environmentMetadata": {
    "base_environment": "",
    "environment_version": "2"
   },
   "inputWidgetPreferences": null,
   "language": "python",
   "notebookMetadata": {
    "mostRecentlyExecutedCommandWithImplicitDF": {
     "commandId": -1,
     "dataframes": [
      "_sqldf"
     ]
    },
    "pythonIndentUnit": 4
   },
   "notebookName": "resetNclear_UC_Schema_Models",
   "widgets": {}
  },
  "language_info": {
   "name": "python"
  }
 },
 "nbformat": 4,
 "nbformat_minor": 0
}
